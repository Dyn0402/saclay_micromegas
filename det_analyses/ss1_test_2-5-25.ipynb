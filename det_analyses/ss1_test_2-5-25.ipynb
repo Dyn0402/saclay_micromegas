{
 "cells": [
  {
   "metadata": {
    "ExecuteTime": {
     "end_time": "2025-02-11T19:49:18.875736Z",
     "start_time": "2025-02-11T19:49:16.846595Z"
    }
   },
   "cell_type": "code",
   "source": [
    "import platform\n",
    "import os\n",
    "\n",
    "from Detector_Classes.M3RefTracking import M3RefTracking\n",
    "from Detector_Classes.DetectorConfigLoader import DetectorConfigLoader\n",
    "from Detector_Classes.DreamDetector import DreamDetector\n",
    "\n",
    "from det_classes_test import plot_ray_hits_2d, align_dream, get_residuals, get_efficiency"
   ],
   "id": "a433598f5ee83464",
   "outputs": [],
   "execution_count": 1
  },
  {
   "metadata": {
    "ExecuteTime": {
     "end_time": "2025-02-11T19:49:18.888474Z",
     "start_time": "2025-02-11T19:49:18.882239Z"
    }
   },
   "cell_type": "code",
   "source": [
    "# Check if platform is Windows or Linux\n",
    "if platform.system() == 'Windows':\n",
    "    base_dir = 'F:/Saclay/cosmic_data/'\n",
    "    det_type_info_dir = 'C:/Users/Dylan/PycharmProjects/Cosmic_Bench_DAQ_Control/config/detectors/'\n",
    "    out_dir = 'F:/Saclay/Analysis/Cosmic Bench/11-5-24/'\n",
    "    chunk_size = 100  # Number of files to process at once\n",
    "elif platform.system() == 'Linux':\n",
    "    base_dir = '/local/home/dn277127/Bureau/cosmic_data/'\n",
    "    det_type_info_dir = '/local/home/dn277127/PycharmProjects/Cosmic_Bench_DAQ_Control/config/detectors/'\n",
    "    out_dir = '/local/home/dn277127/Bureau/cosmic_data/Analysis/11-15-24/'\n",
    "    chunk_size = 7  # Number of files to process at once\n",
    "else:\n",
    "    raise OSError('Unknown platform')\n",
    "\n",
    "run_name = 'ss1_test_2-5-25'\n",
    "run_dir = f'{base_dir}{run_name}/'\n",
    "sub_run_name = 'long_run_1'\n",
    "\n",
    "det_single = 'strip_strip_1'\n",
    "\n",
    "# file_nums = list(range(10, 20))\n",
    "file_nums = 'all'\n",
    "\n",
    "noise_threshold_sigmas = 10\n",
    "\n",
    "realign_dream = True  # If False, read alignment from file, if True, realign Dream detector\n",
    "\n",
    "run_json_path = f'{run_dir}run_config.json'\n",
    "data_dir = f'{run_dir}{sub_run_name}/filtered_root/'\n",
    "ped_dir = f'{run_dir}{sub_run_name}/decoded_root/'\n",
    "m3_dir = f'{run_dir}{sub_run_name}/m3_tracking_root/'\n",
    "alignment_dir = f'{run_dir}alignments/'\n",
    "\n",
    "z_align_range = [5, 5]  # mm range to search for optimal z position\n",
    "z_rot_range = [-5, 5]\n",
    "\n",
    "try:\n",
    "    os.mkdir(alignment_dir)\n",
    "except FileExistsError:\n",
    "    pass\n",
    "try:\n",
    "    os.mkdir(out_dir)\n",
    "except FileExistsError:\n",
    "    pass"
   ],
   "id": "b0ad8fa1eda6da79",
   "outputs": [],
   "execution_count": 2
  },
  {
   "metadata": {
    "jupyter": {
     "is_executing": true
    },
    "ExecuteTime": {
     "start_time": "2025-02-11T19:49:19.049054Z"
    }
   },
   "cell_type": "code",
   "source": [
    "print(f'Getting ray data...')\n",
    "ray_data = M3RefTracking(m3_dir, single_track=True, file_nums=file_nums)"
   ],
   "id": "afe66b1fc6def31b",
   "outputs": [
    {
     "name": "stdout",
     "output_type": "stream",
     "text": [
      "Getting ray data...\n"
     ]
    },
    {
     "name": "stderr",
     "output_type": "stream",
     "text": [
      " 57%|█████▋    | 59/104 [00:04<00:02, 17.29it/s]"
     ]
    }
   ],
   "execution_count": null
  },
  {
   "metadata": {},
   "cell_type": "code",
   "source": "det_config_loader = DetectorConfigLoader(run_json_path, det_type_info_dir)",
   "id": "352bdf0352d18c7f",
   "outputs": [],
   "execution_count": null
  },
  {
   "metadata": {},
   "cell_type": "code",
   "source": [
    "det_config = det_config_loader.get_det_config(det_single, sub_run_name=sub_run_name)\n",
    "det = DreamDetector(config=det_config)\n",
    "det.center[2] = 712\n",
    "print(f'FEU Num: {det.feu_num}')\n",
    "print(f'FEU Channels: {det.feu_connectors}')\n",
    "print(f'HV: {det.hv}')\n",
    "\n",
    "print(f'Detector center: {det.center}')\n",
    "print(f'Detector active size: {det.active_size}')\n",
    "\n",
    "# det.load_dream_data(data_dir, ped_dir, noise_threshold_sigmas, file_nums, chunk_size, hist_raw_amps=True, save_waveforms=True)\n",
    "det.load_dream_data(data_dir, ped_dir, noise_threshold_sigmas, file_nums, chunk_size, hist_raw_amps=True, save_waveforms=False)\n",
    "print(f'Hits shape: {det.dream_data.hits.shape}')"
   ],
   "id": "93dc3b932aba6ac7",
   "outputs": [],
   "execution_count": null
  },
  {
   "metadata": {},
   "cell_type": "code",
   "source": "det.dream_data.plot_pedestals()",
   "id": "5bb4b62475d0eb07",
   "outputs": [],
   "execution_count": null
  },
  {
   "metadata": {},
   "cell_type": "code",
   "source": "det.dream_data.plot_raw_amps_2d_hist()",
   "id": "799e8ba8c317e627",
   "outputs": [],
   "execution_count": null
  },
  {
   "metadata": {},
   "cell_type": "code",
   "source": [
    "# for event_num in range(min(len(det.dream_data.hits), 20)):\n",
    "    # det.plot_event_1d(event_num)\n",
    "    # det.plot_event_2d(event_num)\n",
    "    # det.dream_data.plot_waveforms(event_num)"
   ],
   "id": "eb73c63daa480144",
   "outputs": [],
   "execution_count": null
  },
  {
   "metadata": {},
   "cell_type": "code",
   "source": "# det.dream_data.plot_noise_metric()",
   "id": "be918e9e7cc7a58e",
   "outputs": [],
   "execution_count": null
  },
  {
   "metadata": {},
   "cell_type": "code",
   "source": "det.dream_data.plot_hits_vs_strip(print_dead_strips=True)",
   "id": "70ed463b6a33c634",
   "outputs": [],
   "execution_count": null
  },
  {
   "metadata": {},
   "cell_type": "code",
   "source": "det.dream_data.plot_amplitudes_vs_strip()",
   "id": "af009b896cbdfc38",
   "outputs": [],
   "execution_count": null
  },
  {
   "metadata": {},
   "cell_type": "code",
   "source": [
    "det.make_sub_detectors()\n",
    "event_nums = det.plot_xy_amp_sum_vs_event_num(True, 500, False, 15)\n",
    "\n",
    "# if realign_dream:\n",
    "#     det.add_rotation(90, 'z')"
   ],
   "id": "e6c35250a7d6a5ee",
   "outputs": [],
   "execution_count": null
  },
  {
   "metadata": {},
   "cell_type": "code",
   "source": [
    "plot_ray_hits_2d(det, ray_data)\n",
    "print(f'Detector center: {det.center}')\n",
    "print(f'Detector rotations: {det.rotations}')"
   ],
   "id": "896efe6ec6abfa9c",
   "outputs": [],
   "execution_count": null
  },
  {
   "metadata": {},
   "cell_type": "code",
   "source": "det.plot_hits_1d()",
   "id": "ffcc049142f7247",
   "outputs": [],
   "execution_count": null
  },
  {
   "metadata": {},
   "cell_type": "code",
   "source": "print(len(det.dream_data.hits))",
   "id": "5c92c5e585a12aa4",
   "outputs": [],
   "execution_count": null
  },
  {
   "metadata": {},
   "cell_type": "code",
   "source": [
    "# for event_num in range(min(len(det.dream_data.hits), 2)):\n",
    "#     det.plot_event_1d(event_num)\n",
    "#     det.plot_event_2d(event_num)\n",
    "#     det.dream_data.plot_waveforms(event_num)"
   ],
   "id": "a8d0d5701a809c8e",
   "outputs": [],
   "execution_count": null
  },
  {
   "metadata": {},
   "cell_type": "code",
   "source": [
    "# z_orig = det.center[2]\n",
    "# x_bnds = det.center[0] - det.size[0] / 2, det.center[0] + det.size[0] / 2\n",
    "# y_bnds = det.center[1] - det.size[1] / 2, det.center[1] + det.size[1] / 2\n",
    "# ray_traversing_triggers = ray_data.get_traversing_triggers(z_orig, x_bnds, y_bnds, expansion_factor=0.1)\n",
    "\n",
    "alignment_file = f'{alignment_dir}{det.name}_alignment.txt'\n",
    "if realign_dream:\n",
    "    # det.add_rotation(-90, 'z')\n",
    "    align_dream(det, ray_data, z_align_range, z_rot_range)\n",
    "    det.write_det_alignment_to_file(alignment_file)\n",
    "else:\n",
    "    det.read_det_alignment_from_file(alignment_file)"
   ],
   "id": "736061dce94c852a",
   "outputs": [],
   "execution_count": null
  },
  {
   "metadata": {},
   "cell_type": "code",
   "source": [
    "if realign_dream:\n",
    "    # det.add_rotation(-90, 'z')\n",
    "    align_dream(det, ray_data, z_align_range, z_rot_range)\n",
    "    det.write_det_alignment_to_file(alignment_file)\n",
    "else:\n",
    "    det.read_det_alignment_from_file(alignment_file)"
   ],
   "id": "ed6031bc1e95691e",
   "outputs": [],
   "execution_count": null
  },
  {
   "metadata": {},
   "cell_type": "code",
   "source": [
    "plot_ray_hits_2d(det, ray_data)\n",
    "print(f'Detector center: {det.center}')\n",
    "print(f'Detector rotations: {det.rotations}')"
   ],
   "id": "8fa2134d357b7e0e",
   "outputs": [],
   "execution_count": null
  },
  {
   "metadata": {},
   "cell_type": "code",
   "source": "get_efficiency(det, ray_data, plot=True, in_det=True, tolerance=0.2)",
   "id": "a32cba1c065dee55",
   "outputs": [],
   "execution_count": null
  },
  {
   "metadata": {},
   "cell_type": "code",
   "source": "get_residuals(det, ray_data, plot=True, in_det=True, tolerance=0.2)",
   "id": "2c65dcd9903d74c7",
   "outputs": [],
   "execution_count": null
  },
  {
   "metadata": {},
   "cell_type": "markdown",
   "source": "New stuff above",
   "id": "36ab872060328dcc"
  },
  {
   "metadata": {},
   "cell_type": "code",
   "source": "print(det.sub_detectors)",
   "id": "c46c2d086cd8d1ef",
   "outputs": [],
   "execution_count": null
  },
  {
   "metadata": {},
   "cell_type": "code",
   "source": [
    "for sub_det in det.sub_detectors:\n",
    "    sub_det.plot_cluster_sizes()"
   ],
   "id": "b3ab31a996843e1f",
   "outputs": [],
   "execution_count": null
  },
  {
   "metadata": {},
   "cell_type": "code",
   "source": [
    "#Do 1D efficiency\n",
    "#Cluster sizes"
   ],
   "id": "3adab98fa788003c",
   "outputs": [],
   "execution_count": null
  },
  {
   "metadata": {},
   "cell_type": "markdown",
   "source": [
    "Do 1D efficiency\n",
    "Cluster sizes"
   ],
   "id": "b568b366df01a49f"
  }
 ],
 "metadata": {
  "kernelspec": {
   "display_name": "Python 3",
   "language": "python",
   "name": "python3"
  },
  "language_info": {
   "codemirror_mode": {
    "name": "ipython",
    "version": 2
   },
   "file_extension": ".py",
   "mimetype": "text/x-python",
   "name": "python",
   "nbconvert_exporter": "python",
   "pygments_lexer": "ipython2",
   "version": "2.7.6"
  }
 },
 "nbformat": 4,
 "nbformat_minor": 5
}
