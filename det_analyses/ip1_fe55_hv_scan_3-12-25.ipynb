{
 "cells": [
  {
   "metadata": {
    "jupyter": {
     "is_executing": true
    }
   },
   "cell_type": "code",
   "source": [
    "import platform\n",
    "import os\n",
    "from datetime import datetime\n",
    "\n",
    "import numpy as np\n",
    "\n",
    "from Detector_Classes.DetectorConfigLoader import DetectorConfigLoader\n",
    "from Detector_Classes.DreamDetector import DreamDetector"
   ],
   "id": "a433598f5ee83464",
   "outputs": [],
   "execution_count": null
  },
  {
   "metadata": {},
   "cell_type": "code",
   "source": [
    "# Check if platform is Windows or Linux\n",
    "if platform.system() == 'Windows':\n",
    "    base_dir = 'F:/Saclay/cosmic_data/'\n",
    "    det_type_info_dir = 'C:/Users/Dylan/PycharmProjects/Cosmic_Bench_DAQ_Control/config/detectors/'\n",
    "    out_dir = 'F:/Saclay/Analysis/Cosmic Bench/11-5-24/'\n",
    "    chunk_size = 100  # Number of files to process at once\n",
    "elif platform.system() == 'Linux':\n",
    "    base_dir = '/local/home/dn277127/Bureau/cosmic_data/'\n",
    "    det_type_info_dir = '/local/home/dn277127/PycharmProjects/Cosmic_Bench_DAQ_Control/config/detectors/'\n",
    "    out_dir = '/local/home/dn277127/Bureau/cosmic_data/Analysis/11-15-24/'\n",
    "    chunk_size = 1  # Number of files to process at once\n",
    "else:\n",
    "    raise OSError('Unknown platform')\n",
    "\n",
    "run_name = 'ip1_fe55_selftrig_3-12-25'\n",
    "run_dir = f'{base_dir}{run_name}/'\n",
    "sub_run_name = 'hv_435'\n",
    "\n",
    "det_single = 'inter_plein_1'\n",
    "\n",
    "file_nums = 'all'\n",
    "\n",
    "noise_threshold_sigmas = 5\n",
    "\n",
    "run_json_path = f'{run_dir}run_config.json'\n",
    "data_dir = f'{run_dir}{sub_run_name}/filtered_root/'\n",
    "ped_dir = f'{run_dir}{sub_run_name}/decoded_root/'\n",
    "\n",
    "try:\n",
    "    os.mkdir(out_dir)\n",
    "except FileExistsError:\n",
    "    pass"
   ],
   "id": "b0ad8fa1eda6da79",
   "outputs": [],
   "execution_count": null
  },
  {
   "metadata": {},
   "cell_type": "code",
   "source": "det_config_loader = DetectorConfigLoader(run_json_path, det_type_info_dir)",
   "id": "352bdf0352d18c7f",
   "outputs": [],
   "execution_count": null
  },
  {
   "metadata": {},
   "cell_type": "code",
   "source": [
    "det_config = det_config_loader.get_det_config(det_single, sub_run_name=sub_run_name)\n",
    "det = DreamDetector(config=det_config)\n",
    "print(f'FEU Num: {det.feu_num}')\n",
    "print(f'FEU Channels: {det.feu_connectors}')\n",
    "print(f'HV: {det.hv}')\n",
    "\n",
    "print(f'Detector center: {det.center}')\n",
    "print(f'Detector active size: {det.active_size}')\n",
    "\n",
    "# det.load_dream_data(data_dir, ped_dir, noise_threshold_sigmas, file_nums, chunk_size, hist_raw_amps=True, save_waveforms=True)\n",
    "det.load_dream_data(data_dir, ped_dir, noise_threshold_sigmas, file_nums, chunk_size, hist_raw_amps=True, save_waveforms=False)\n",
    "print(f'Hits shape: {det.dream_data.hits.shape}')"
   ],
   "id": "93dc3b932aba6ac7",
   "outputs": [],
   "execution_count": null
  },
  {
   "metadata": {},
   "cell_type": "code",
   "source": "det.dream_data.plot_pedestals()",
   "id": "5bb4b62475d0eb07",
   "outputs": [],
   "execution_count": null
  },
  {
   "metadata": {},
   "cell_type": "code",
   "source": "det.dream_data.plot_raw_amps_2d_hist()",
   "id": "799e8ba8c317e627",
   "outputs": [],
   "execution_count": null
  },
  {
   "metadata": {},
   "cell_type": "code",
   "source": [
    "# for event_num in range(min(len(det.dream_data.hits), 20)):\n",
    "    # det.plot_event_1d(event_num)\n",
    "    # det.plot_event_2d(event_num)\n",
    "    # det.dream_data.plot_waveforms(event_num)"
   ],
   "id": "eb73c63daa480144",
   "outputs": [],
   "execution_count": null
  },
  {
   "metadata": {},
   "cell_type": "code",
   "source": "# det.dream_data.plot_noise_metric()",
   "id": "be918e9e7cc7a58e",
   "outputs": [],
   "execution_count": null
  },
  {
   "metadata": {},
   "cell_type": "code",
   "source": "det.dream_data.plot_hits_vs_strip(print_dead_strips=True)",
   "id": "70ed463b6a33c634",
   "outputs": [],
   "execution_count": null
  },
  {
   "metadata": {},
   "cell_type": "code",
   "source": "det.dream_data.plot_amplitudes_vs_strip()",
   "id": "af009b896cbdfc38",
   "outputs": [],
   "execution_count": null
  },
  {
   "metadata": {},
   "cell_type": "code",
   "source": [
    "det.make_sub_detectors()\n",
    "event_nums = det.plot_xy_amp_sum_vs_event_num(True, 500, False, 15)\n",
    "\n",
    "# if realign_dream:\n",
    "#     det.add_rotation(90, 'z')"
   ],
   "id": "e6c35250a7d6a5ee",
   "outputs": [],
   "execution_count": null
  },
  {
   "metadata": {},
   "cell_type": "code",
   "source": [
    "start_date_time = datetime(2025, 2, 27, 17, 25)\n",
    "# det.plot_xy_amp_sum_vs_timestamp(x_range=(0, 2.7e13 / 1e8), t_start=start_date_time)\n",
    "det.plot_xy_amp_sum_vs_timestamp()\n",
    "# det.plot_xy_amp_sum_vs_timestamp(t_start=start_date_time)"
   ],
   "id": "cb270c8ed7faebde",
   "outputs": [],
   "execution_count": null
  },
  {
   "metadata": {},
   "cell_type": "code",
   "source": "det.plot_hits_1d()",
   "id": "ffcc049142f7247",
   "outputs": [],
   "execution_count": null
  },
  {
   "metadata": {},
   "cell_type": "code",
   "source": "print(len(det.dream_data.hits))",
   "id": "5c92c5e585a12aa4",
   "outputs": [],
   "execution_count": null
  },
  {
   "metadata": {},
   "cell_type": "code",
   "source": [
    "# for event_num in range(min(len(det.dream_data.hits), 2)):\n",
    "#     det.plot_event_1d(event_num)\n",
    "#     det.plot_event_2d(event_num)\n",
    "#     det.dream_data.plot_waveforms(event_num)"
   ],
   "id": "a8d0d5701a809c8e",
   "outputs": [],
   "execution_count": null
  },
  {
   "metadata": {},
   "cell_type": "code",
   "source": [
    "for sub_det in det.sub_detectors:\n",
    "    sub_det.plot_cluster_sizes()"
   ],
   "id": "b3ab31a996843e1f",
   "outputs": [],
   "execution_count": null
  }
 ],
 "metadata": {
  "kernelspec": {
   "display_name": "Python 3",
   "language": "python",
   "name": "python3"
  },
  "language_info": {
   "codemirror_mode": {
    "name": "ipython",
    "version": 2
   },
   "file_extension": ".py",
   "mimetype": "text/x-python",
   "name": "python",
   "nbconvert_exporter": "python",
   "pygments_lexer": "ipython2",
   "version": "2.7.6"
  }
 },
 "nbformat": 4,
 "nbformat_minor": 5
}
