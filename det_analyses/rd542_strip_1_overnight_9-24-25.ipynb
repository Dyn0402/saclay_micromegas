{
 "cells": [
  {
   "metadata": {
    "ExecuteTime": {
     "end_time": "2025-09-25T14:01:06.694078Z",
     "start_time": "2025-09-25T14:01:06.681591Z"
    }
   },
   "cell_type": "code",
   "source": [
    "%load_ext autoreload\n",
    "%autoreload 2"
   ],
   "id": "fbee60de7c5b7d19",
   "outputs": [],
   "execution_count": 1
  },
  {
   "metadata": {
    "ExecuteTime": {
     "end_time": "2025-09-25T14:01:08.436072Z",
     "start_time": "2025-09-25T14:01:06.752412Z"
    }
   },
   "cell_type": "code",
   "source": [
    "import platform\n",
    "import os\n",
    "\n",
    "import numpy as np\n",
    "import matplotlib.pyplot as plt\n",
    "import pandas as pd\n",
    "from pandas.core.nanops import bottleneck_switch\n",
    "\n",
    "from Detector_Classes.M3RefTracking import M3RefTracking\n",
    "from Detector_Classes.DetectorConfigLoader import DetectorConfigLoader\n",
    "from Detector_Classes.DreamDetector import DreamDetector\n",
    "\n",
    "from det_classes_test import plot_ray_hits_2d, align_dream, get_residuals, get_efficiency, get_residuals_subdets_with_err, get_rays_in_sub_det_vectorized, get_rays_in_sub_det, get_raw_residuals, get_circle_scan, plot_2D_circle_scan"
   ],
   "id": "a433598f5ee83464",
   "outputs": [],
   "execution_count": 2
  },
  {
   "metadata": {
    "ExecuteTime": {
     "end_time": "2025-09-25T14:01:09.141914Z",
     "start_time": "2025-09-25T14:01:08.495116Z"
    }
   },
   "cell_type": "code",
   "source": [
    "# Check if platform is Windows or Linux\n",
    "if platform.system() == 'Windows':\n",
    "    base_dir = 'F:/Saclay/cosmic_data/'\n",
    "    det_type_info_dir = 'C:/Users/Dylan/PycharmProjects/Cosmic_Bench_DAQ_Control/config/detectors/'\n",
    "    out_dir = 'F:/Saclay/Analysis/Cosmic Bench/11-5-24/'\n",
    "    chunk_size = 100  # Number of files to process at once\n",
    "elif platform.system() == 'Linux' and platform.node() == 'dylan-MS-7C84':\n",
    "    base_dir = '/media/ucla/Saclay/cosmic_data/'\n",
    "    det_type_info_dir = '/home/dylan/PycharmProjects/Cosmic_Bench_DAQ_Control/config/detectors/'\n",
    "    out_dir = '/media/ucla/Saclay/Analysis/Cosmic Bench/11-5-24/'\n",
    "    chunk_size = 100  # Number of files to process at once\n",
    "elif platform.system() == 'Linux' and platform.node() == 'dphnpct50.extra.cea.fr':\n",
    "    base_dir = '/local/home/dn277127/Bureau/cosmic_data/'\n",
    "    det_type_info_dir = '/local/home/dn277127/PycharmProjects/Cosmic_Bench_DAQ_Control/config/detectors/'\n",
    "    out_dir = '/local/home/dn277127/Bureau/cosmic_data/Analysis/11-15-24/'\n",
    "    chunk_size = 0.2  # Number of files to process at once\n",
    "else:\n",
    "    raise OSError('Unknown platform')\n",
    "\n",
    "run_name = 'rd542_strip_1_overnight_9-24-25'\n",
    "run_dir = f'{base_dir}{run_name}/'\n",
    "# sub_run_name = 'hour_run_resist_500V'\n",
    "sub_run_name = 'overnight_run_resist_485V'\n",
    "\n",
    "det_single = 'rd542_strip_1'\n",
    "\n",
    "file_nums = list(range(0, 3))\n",
    "# file_nums = list(range(0, 109))\n",
    "# file_nums = 'all'\n",
    "\n",
    "noise_sigma = 4\n",
    "\n",
    "realign_dream = True  # If False, read alignment from file, if True, realign Dream detector\n",
    "# realign_dream = False  # If False, read alignment from file, if True, realign Dream detector\n",
    "\n",
    "run_json_path = f'{run_dir}run_config.json'\n",
    "data_dir = f'{run_dir}{sub_run_name}/filtered_root/'\n",
    "ped_dir = f'{run_dir}{sub_run_name}/decoded_root/'\n",
    "m3_dir = f'{run_dir}{sub_run_name}/m3_tracking_root/'\n",
    "alignment_dir = f'{run_dir}alignments/'\n",
    "\n",
    "z_align_range = [15, 15]  # mm range to search for optimal z position\n",
    "z_rot_align_range = [-2, 2]\n",
    "\n",
    "try:\n",
    "    os.mkdir(alignment_dir)\n",
    "except FileExistsError:\n",
    "    pass\n",
    "try:\n",
    "    os.mkdir(out_dir)\n",
    "except FileExistsError:\n",
    "    pass"
   ],
   "id": "b0ad8fa1eda6da79",
   "outputs": [],
   "execution_count": 3
  },
  {
   "metadata": {
    "ExecuteTime": {
     "end_time": "2025-09-25T14:01:09.343180Z",
     "start_time": "2025-09-25T14:01:09.148018Z"
    }
   },
   "cell_type": "code",
   "source": [
    "print(f'Getting ray data...')\n",
    "ray_data = M3RefTracking(m3_dir, single_track=True, file_nums=file_nums, chi2_cut=1.5)\n",
    "print(f'{len(ray_data.ray_data)} rays')"
   ],
   "id": "afe66b1fc6def31b",
   "outputs": [
    {
     "name": "stdout",
     "output_type": "stream",
     "text": [
      "Getting ray data...\n"
     ]
    },
    {
     "name": "stderr",
     "output_type": "stream",
     "text": [
      "100%|██████████| 12/12 [00:00<00:00, 160.06it/s]"
     ]
    },
    {
     "name": "stdout",
     "output_type": "stream",
     "text": [
      "Cutting on detector size: 37057 / 77854 tracks remain, 47.60%\n",
      "Pre-chi2 cut, Found 40909 events with 0 good tracks (52.55%), 111 events with >1 good tracks (0.14%)\n",
      "Found 57709 events with 0 good tracks (74.12%), 1 events with >1 good tracks (0.00%)\n",
      "20144 rays\n"
     ]
    },
    {
     "name": "stderr",
     "output_type": "stream",
     "text": [
      "\n"
     ]
    }
   ],
   "execution_count": 4
  },
  {
   "metadata": {
    "ExecuteTime": {
     "end_time": "2025-09-25T14:01:10.165466Z",
     "start_time": "2025-09-25T14:01:09.350398Z"
    }
   },
   "cell_type": "code",
   "source": [
    "print(f'Getting no cut ray data...')\n",
    "ray_data_no_cut = M3RefTracking(m3_dir, single_track=False, file_nums=file_nums)\n",
    "fraction_remaining = len(ray_data.ray_data) / len(ray_data_no_cut.ray_data)\n",
    "print(f'{len(ray_data_no_cut.ray_data)} rays, fraction remaining: {fraction_remaining * 100:.2f}%')\n",
    "\n",
    "fig, ax = plt.subplots(figsize=(8, 4))\n",
    "ax.hist(np.min(ray_data_no_cut.ray_data['Chi2X'], axis=1), bins=100, alpha=0.5, label='Chi2X')\n",
    "ax.hist(np.min(ray_data_no_cut.ray_data['Chi2Y'], axis=1), bins=100, alpha=0.5, label='Chi2Y')\n",
    "ax.axvline(ray_data_no_cut.chi2_cut, color='black', ls='--')\n",
    "ax.annotate(f'Fraction Remaining: {fraction_remaining * 100:.2f}%', (0.5, 0.5), xycoords='axes fraction', ha='center', va='center')\n",
    "ax.legend()\n",
    "fig.tight_layout()\n",
    "\n",
    "fig, ax = plt.subplots(figsize=(8, 4))\n",
    "ax.hist(np.min(ray_data_no_cut.ray_data['Chi2X'], axis=1), bins=np.linspace(0, 10, 100), alpha=0.5, label='Chi2X')\n",
    "ax.hist(np.min(ray_data_no_cut.ray_data['Chi2Y'], axis=1), bins=np.linspace(0, 10, 100), alpha=0.5, label='Chi2Y')\n",
    "ax.axvline(ray_data_no_cut.chi2_cut, color='black', ls='--')\n",
    "ax.annotate(f'Fraction Remaining: {fraction_remaining * 100:.2f}%', (0.5, 0.5), xycoords='axes fraction', ha='center', va='center')\n",
    "ax.legend()\n",
    "fig.tight_layout()"
   ],
   "id": "bc1cb35ece65d05",
   "outputs": [
    {
     "name": "stdout",
     "output_type": "stream",
     "text": [
      "Getting no cut ray data...\n"
     ]
    },
    {
     "name": "stderr",
     "output_type": "stream",
     "text": [
      "100%|██████████| 12/12 [00:00<00:00, 135.16it/s]"
     ]
    },
    {
     "name": "stdout",
     "output_type": "stream",
     "text": [
      "77854 rays, fraction remaining: 25.87%\n"
     ]
    },
    {
     "name": "stderr",
     "output_type": "stream",
     "text": [
      "\n"
     ]
    },
    {
     "data": {
      "text/plain": [
       "<Figure size 800x400 with 1 Axes>"
      ],
      "image/png": "[encoded data removed]"
     },
     "metadata": {},
     "output_type": "display_data",
     "jetTransient": {
      "display_id": null
     }
    },
    {
     "data": {
      "text/plain": [
       "<Figure size 800x400 with 1 Axes>"
      ],
      "image/png": "[encoded data removed]"
     },
     "metadata": {},
     "output_type": "display_data",
     "jetTransient": {
      "display_id": null
     }
    }
   ],
   "execution_count": 5
  },
  {
   "metadata": {
    "ExecuteTime": {
     "end_time": "2025-09-25T14:01:10.437907Z",
     "start_time": "2025-09-25T14:01:10.415295Z"
    }
   },
   "cell_type": "code",
   "source": "det_config_loader = DetectorConfigLoader(run_json_path, det_type_info_dir)",
   "id": "352bdf0352d18c7f",
   "outputs": [],
   "execution_count": 6
  },
  {
   "metadata": {
    "jupyter": {
     "is_executing": true
    },
    "ExecuteTime": {
     "start_time": "2025-09-25T14:01:10.468076Z"
    }
   },
   "cell_type": "code",
   "source": [
    "det_config = det_config_loader.get_det_config(det_single, sub_run_name=sub_run_name)\n",
    "det = DreamDetector(config=det_config)\n",
    "print(f'FEU Num: {det.feu_num}')\n",
    "print(f'FEU Channels: {det.feu_connectors}')\n",
    "print(f'HV: {det.hv}')\n",
    "\n",
    "det.load_dream_data(data_dir, ped_dir, noise_sigma, file_nums, chunk_size, hist_raw_amps=True, save_waveforms=True, waveform_fit_func='parabola_vectorized')\n",
    "print(f'Hits shape: {det.dream_data.hits.shape}')"
   ],
   "id": "93dc3b932aba6ac7",
   "outputs": [
    {
     "name": "stdout",
     "output_type": "stream",
     "text": [
      "Found 4 groups in detector map\n",
      "FEU Num: 6\n",
      "FEU Channels: [1, 2, 3, 4]\n",
      "HV: {'drift': 800, 'resist_1': 485, 'resist_2': 485}\n"
     ]
    }
   ],
   "execution_count": null
  },
  {
   "metadata": {},
   "cell_type": "code",
   "source": "det.dream_data.plot_pedestals()",
   "id": "5bb4b62475d0eb07",
   "outputs": [],
   "execution_count": null
  },
  {
   "metadata": {},
   "cell_type": "code",
   "source": "det.dream_data.plot_noise_metric()",
   "id": "be918e9e7cc7a58e",
   "outputs": [],
   "execution_count": null
  },
  {
   "metadata": {},
   "cell_type": "code",
   "source": "det.dream_data.plot_hits_vs_strip(print_dead_strips=True)",
   "id": "70ed463b6a33c634",
   "outputs": [],
   "execution_count": null
  },
  {
   "metadata": {},
   "cell_type": "code",
   "source": "det.dream_data.plot_raw_amps_2d_hist()",
   "id": "d2f3baae6a02b57f",
   "outputs": [],
   "execution_count": null
  },
  {
   "metadata": {},
   "cell_type": "code",
   "source": "det.dream_data.plot_raw_amps_2d_hist(combine_y=2)",
   "id": "4014101a13af2e5c",
   "outputs": [],
   "execution_count": null
  },
  {
   "metadata": {},
   "cell_type": "code",
   "source": "det.dream_data.plot_raw_amps_2d_hist(combine_y=3)",
   "id": "40839d61616a12f2",
   "outputs": [],
   "execution_count": null
  },
  {
   "metadata": {},
   "cell_type": "code",
   "source": [
    "channel_range = (200, 250)\n",
    "amplitude_range = (2000, 2800)\n",
    "det.dream_data.plot_raw_amps_2d_hist(combine_y=10)\n",
    "\n",
    "# Add a rectangle around channel/amplitude range\n",
    "rect = plt.Rectangle((channel_range[0], amplitude_range[0]), channel_range[-1] - channel_range[0], amplitude_range[-1] - amplitude_range[0], fill=False, color='red', linewidth=2)\n",
    "plt.gca().add_patch(rect)"
   ],
   "id": "cb70b0fbd3af40f9",
   "outputs": [],
   "execution_count": null
  },
  {
   "metadata": {},
   "cell_type": "code",
   "source": [
    "from matplotlib.colors import LogNorm\n",
    "def plot_raw_amps_2d_hist(data, bin_size: int = 16):\n",
    "    \"\"\"\n",
    "    Plot a 2D histogram of amplitudes vs. channel.\n",
    "\n",
    "    Parameters\n",
    "    ----------\n",
    "    data : np.ndarray\n",
    "        Array of shape (n_events, 256, n_samples).\n",
    "    bin_size : int\n",
    "        Bin size for amplitudes (default=16). Range is 0–4096.\n",
    "    \"\"\"\n",
    "    if data.ndim != 3 or data.shape[1] != 256:\n",
    "        raise ValueError(\"Input must have shape (n_events, 256, n_samples)\")\n",
    "\n",
    "    n_events, n_channels, n_samples = data.shape\n",
    "\n",
    "    # Flatten samples and events for each channel → shape (n_events * n_samples, 256)\n",
    "    flat_data = data.reshape(-1, n_channels)\n",
    "\n",
    "    # Define bins along amplitude axis\n",
    "    bins = np.arange(0, 4096 + bin_size, bin_size)\n",
    "    n_bins_y = len(bins) - 1\n",
    "\n",
    "    # Build histogram (vectorized)\n",
    "    hist = np.zeros((n_channels, n_bins_y), dtype=np.int64)\n",
    "    for ch in range(n_channels):\n",
    "        hist[ch], _ = np.histogram(flat_data[:, ch], bins=bins)\n",
    "\n",
    "    # Plot\n",
    "    fig, ax = plt.subplots(figsize=(12, 6))\n",
    "    ax.set_title(\"Raw Amplitudes\")\n",
    "    ax.set_xlabel(\"Channel\")\n",
    "    ax.set_ylabel(\"Amplitude [ADC counts]\")\n",
    "\n",
    "    cmap = plt.cm.jet\n",
    "    cmap.set_under('w')\n",
    "\n",
    "    h = ax.imshow(\n",
    "        hist.T,\n",
    "        origin='lower',\n",
    "        aspect='auto',\n",
    "        cmap=cmap,\n",
    "        extent=[-0.5, n_channels - 0.5, bins[0], bins[-1]],\n",
    "        norm=LogNorm(vmin=1)\n",
    "    )\n",
    "\n",
    "    cbar = fig.colorbar(h, ax=ax)\n",
    "    cbar.set_label(\"Counts (log scale)\")\n",
    "    fig.tight_layout()"
   ],
   "id": "6b240cce2ff9cce7",
   "outputs": [],
   "execution_count": null
  },
  {
   "metadata": {},
   "cell_type": "code",
   "source": "print(det.dream_data.waveforms.shape)",
   "id": "ce4e363e01fd5fb8",
   "outputs": [],
   "execution_count": null
  },
  {
   "metadata": {},
   "cell_type": "code",
   "source": [
    "flat_data = det.dream_data.waveforms.reshape(-1, 256)\n",
    "print(det.dream_data.waveforms.shape)\n",
    "print(flat_data.shape)\n",
    "\n",
    "waveforms = det.dream_data.waveforms\n",
    "event_sums = np.sum(waveforms, axis=(1, 2))\n",
    "print(event_sums.shape)\n",
    "\n",
    "spark_event_amp_sum_thresh = 0.4e7\n",
    "spark_event_filter = event_sums > spark_event_amp_sum_thresh\n",
    "\n",
    "fig, ax = plt.subplots(figsize=(8, 6))\n",
    "ax.hist(event_sums, bins=100)\n",
    "ax.axvline(spark_event_amp_sum_thresh, color='black', ls='--', label='Spark Event Amp Sum Threshold')\n",
    "ax.legend()\n",
    "ax.set_yscale('log')\n",
    "ax.set_xlabel('Sum of All Samples of All Channels per Event')\n",
    "ax.set_ylabel('Number of Events')\n",
    "ax.set_title('Spark Metric: Events with large sample:channel sums are probably sparks')\n",
    "\n",
    "spark_waveforms = waveforms[spark_event_filter]\n",
    "non_spark_waveforms = waveforms[~spark_event_filter]\n",
    "\n",
    "n_events, n_channels, n_samples = spark_waveforms.shape\n",
    "data_raw_i = spark_waveforms.transpose(1, 0, 2).reshape(n_channels, n_events * n_samples)\n",
    "bins_y = np.arange(-0.5, 4096.5, 20)\n",
    "print(data_raw_i.shape)\n",
    "\n",
    "histograms = np.array([np.histogram(data_raw_i[i], bins=bins_y)[0] for i in range(n_channels)])\n",
    "\n",
    "fig, ax = plt.subplots()\n",
    "ax.set_title(f'Raw Amplitudes')\n",
    "ax.set_xlabel('Channel')\n",
    "ax.set_ylabel('Amplitude')\n",
    "\n",
    "cmap = plt.cm.jet\n",
    "cmap.set_under('w')\n",
    "\n",
    "n_channels, n_bins_y = histograms.shape\n",
    "h = ax.imshow(\n",
    "    histograms.T,\n",
    "    origin='lower',\n",
    "    aspect='auto',\n",
    "    cmap=cmap,\n",
    "    extent=[-0.5, n_channels - 0.5, -0.5, n_bins_y - 0.5],\n",
    "    norm=LogNorm(vmin=1)\n",
    ")\n",
    "\n",
    "cbar = fig.colorbar(h, ax=ax)\n",
    "fig.tight_layout()\n",
    "\n",
    "n_events, n_channels, n_samples = non_spark_waveforms.shape\n",
    "data_raw_i = non_spark_waveforms.transpose(1, 0, 2).reshape(n_channels, n_events * n_samples)\n",
    "bins_y = np.arange(-0.5, 4096.5, 20)\n",
    "print(data_raw_i.shape)\n",
    "\n",
    "histograms = np.array([np.histogram(data_raw_i[i], bins=bins_y)[0] for i in range(n_channels)])\n",
    "\n",
    "fig, ax = plt.subplots()\n",
    "ax.set_title(f'Raw Amplitudes')\n",
    "ax.set_xlabel('Channel')\n",
    "ax.set_ylabel('Amplitude')\n",
    "\n",
    "cmap = plt.cm.jet\n",
    "cmap.set_under('w')\n",
    "\n",
    "n_channels, n_bins_y = histograms.shape\n",
    "h = ax.imshow(\n",
    "    histograms.T,\n",
    "    origin='lower',\n",
    "    aspect='auto',\n",
    "    cmap=cmap,\n",
    "    extent=[-0.5, n_channels - 0.5, -0.5, n_bins_y - 0.5],\n",
    "    norm=LogNorm(vmin=1)\n",
    ")\n",
    "\n",
    "cbar = fig.colorbar(h, ax=ax)\n",
    "fig.tight_layout()"
   ],
   "id": "4c92bfa0d4aca471",
   "outputs": [],
   "execution_count": null
  },
  {
   "metadata": {},
   "cell_type": "code",
   "source": [
    "fig, ax = plt.subplots(figsize=(8, 6))\n",
    "ax.hist(det.dream_data.event_amp_sums, bins=100)\n",
    "ax.axvline(spark_event_amp_sum_thresh - 400 * 4 * 64 * 32, color='black', ls='--', label='Spark Event Amp Sum Threshold')\n",
    "ax.legend()\n",
    "ax.set_yscale('log')\n",
    "ax.set_xlabel('Sum of All Samples of All Channels per Event')\n",
    "ax.set_ylabel('Number of Events')\n",
    "ax.set_title('Spark Metric: Events with large sample:channel sums are probably sparks')"
   ],
   "id": "8353eab757be0bb3",
   "outputs": [],
   "execution_count": null
  },
  {
   "metadata": {},
   "cell_type": "code",
   "source": [
    "select_events_mask = (det.dream_data.event_amp_sums > 0.2e6) & (det.dream_data.event_amp_sums < 0.4e6)\n",
    "select_event_nums = det.dream_data.event_nums[select_events_mask]\n",
    "print(select_event_nums)"
   ],
   "id": "944a9d6c6a3f19be",
   "outputs": [],
   "execution_count": null
  },
  {
   "metadata": {},
   "cell_type": "code",
   "source": [
    "print(f'Spark Waveforms: {spark_waveforms.shape}')\n",
    "print(f'Non-Spark Waveforms: {non_spark_waveforms.shape}')"
   ],
   "id": "fa59e78a728212f4",
   "outputs": [],
   "execution_count": null
  },
  {
   "metadata": {},
   "cell_type": "code",
   "source": [
    "print(det.dream_data.waveforms.shape)\n",
    "sample_filter = (det.dream_data.waveforms < amplitude_range[-1]) & (det.dream_data.waveforms > amplitude_range[0])\n",
    "strip_filter = np.sum(sample_filter, axis=-1)\n",
    "event_filter = np.sum(strip_filter[:, channel_range[0]:channel_range[-1]], axis=-1)\n",
    "print(event_filter.shape)\n",
    "print(event_filter > 0)\n",
    "events = np.arange(0, len(event_filter))[event_filter > 0]\n",
    "print(events)\n",
    "print(len(events))\n",
    "# [180:190]>1500 <2000\n"
   ],
   "id": "8020f6bd5a3ed0eb",
   "outputs": [],
   "execution_count": null
  },
  {
   "metadata": {},
   "cell_type": "code",
   "source": [
    "spark_event_nums = det.dream_data.event_nums[spark_event_filter]\n",
    "print(spark_event_nums)\n",
    "len(spark_event_nums)"
   ],
   "id": "f055682c6342f54b",
   "outputs": [],
   "execution_count": null
  },
  {
   "metadata": {},
   "cell_type": "code",
   "source": "det.make_sub_detectors()",
   "id": "1274162f4e5e30f5",
   "outputs": [],
   "execution_count": null
  },
  {
   "metadata": {},
   "cell_type": "code",
   "source": [
    "# event_num = events[7]\n",
    "event_num = 9550 - 1\n",
    "det.plot_event_1d(event_num)\n",
    "det.plot_event_2d(event_num)\n",
    "det.dream_data.plot_waveforms(event_num)"
   ],
   "id": "9f9a76b687d230a3",
   "outputs": [],
   "execution_count": null
  },
  {
   "metadata": {},
   "cell_type": "code",
   "source": [
    "from DreamData import fit_waveform_parabola_vectorized, calc_parabola_vertex_new\n",
    "waveform_e0_s0 = det.dream_data.waveforms[0][0]\n",
    "print(waveform_e0_s0)"
   ],
   "id": "f8ea19babe9c6866",
   "outputs": [],
   "execution_count": null
  },
  {
   "metadata": {},
   "cell_type": "code",
   "source": [
    "fig, ax = plt.subplots()\n",
    "ax.plot(det.dream_data.waveforms[0][3])\n",
    "fit_waveform_parabola_vectorized(det.dream_data.waveforms[0][0])"
   ],
   "id": "66d503f3088c324",
   "outputs": [],
   "execution_count": null
  },
  {
   "metadata": {},
   "cell_type": "code",
   "source": [
    "def fit_waveform_parabola_vectorized(data):\n",
    "    max_indices = np.argmax(data, axis=-1)\n",
    "    amplitudes = np.max(data, axis=-1)\n",
    "\n",
    "    # Identify valid indices (exclude borders)\n",
    "    valid_mask = (max_indices > 0) & (max_indices < data.shape[-1] - 1)\n",
    "\n",
    "    # Gather x and y values for parabola fitting\n",
    "    x_left = max_indices - 1\n",
    "    x_mid = max_indices\n",
    "    x_right = max_indices + 1\n",
    "\n",
    "    # Keep left and right indices within bounds\n",
    "    x_left = np.clip(x_left, 0, data.shape[-1] - 1)\n",
    "    x_right = np.clip(x_right, 0, data.shape[-1] - 1)\n",
    "\n",
    "    y_left = np.take_along_axis(data, x_left[..., None], axis=-1).squeeze(-1)\n",
    "    y_mid = amplitudes\n",
    "    y_right = np.take_along_axis(data, x_right[..., None], axis=-1).squeeze(-1)\n",
    "\n",
    "    # Fit parabola for valid points only\n",
    "    xv, yv = np.full(y_mid.shape, np.nan), np.full(y_mid.shape, np.nan)\n",
    "    xv[valid_mask], yv[valid_mask] = calc_parabola_vertex_new(\n",
    "        x_left[valid_mask], y_left[valid_mask],\n",
    "        x_mid[valid_mask], y_mid[valid_mask],\n",
    "        x_right[valid_mask], y_right[valid_mask]\n",
    "    )\n",
    "\n",
    "    xv[~valid_mask], yv[~valid_mask] = np.nan, np.nan\n",
    "\n",
    "    success = valid_mask & (yv > 0)  # Optional condition for valid fits\n",
    "    return np.stack([yv, xv, success], axis=-1)"
   ],
   "id": "81396f7bc428fe20",
   "outputs": [],
   "execution_count": null
  },
  {
   "metadata": {},
   "cell_type": "code",
   "source": "fit_waveform_parabola_vectorized(det.dream_data.waveforms[0][3])",
   "id": "28dd26e30fdf8860",
   "outputs": [],
   "execution_count": null
  },
  {
   "metadata": {},
   "cell_type": "code",
   "source": "det.dream_data.data_fit_success[0][3]",
   "id": "3c0c97352ca08ea9",
   "outputs": [],
   "execution_count": null
  },
  {
   "metadata": {},
   "cell_type": "code",
   "source": "res = fit_waveform_parabola_vectorized(det.dream_data.waveforms[:3])",
   "id": "32bc99aecbf97749",
   "outputs": [],
   "execution_count": null
  },
  {
   "metadata": {},
   "cell_type": "code",
   "source": "print(res[0][3])",
   "id": "51f0a1c287927104",
   "outputs": [],
   "execution_count": null
  },
  {
   "metadata": {},
   "cell_type": "code",
   "source": [
    "# for event_num in range(min(len(det.dream_data.hits), 2)):\n",
    "#     det.plot_event_1d(event_num)\n",
    "#     det.plot_event_2d(event_num)\n",
    "#     det.dream_data.plot_waveforms(event_num)"
   ],
   "id": "3876d7c68ca535fc",
   "outputs": [],
   "execution_count": null
  },
  {
   "metadata": {},
   "cell_type": "code",
   "source": "print(det.dream_data.data_amps.shape)",
   "id": "ab4834a3c448c5c5",
   "outputs": [],
   "execution_count": null
  },
  {
   "metadata": {},
   "cell_type": "code",
   "source": "sample_maxes = np.max(det.dream_data.waveforms, axis=-1)",
   "id": "f74808550d54dd45",
   "outputs": [],
   "execution_count": null
  },
  {
   "metadata": {},
   "cell_type": "code",
   "source": "np.sum(sample_maxes > 1000)",
   "id": "e248b2c16d0c59dd",
   "outputs": [],
   "execution_count": null
  },
  {
   "metadata": {},
   "cell_type": "code",
   "source": "print(np.sum(det.dream_data.data_amps > 1000))",
   "id": "1b4cc571fcd0922",
   "outputs": [],
   "execution_count": null
  },
  {
   "metadata": {},
   "cell_type": "code",
   "source": "np.sum(det.dream_data.raw_amp_hist[:, 1300:]) / 32",
   "id": "b3ded94c13f078dd",
   "outputs": [],
   "execution_count": null
  },
  {
   "metadata": {},
   "cell_type": "code",
   "source": "det.dream_data.plot_amplitudes_vs_strip()",
   "id": "af009b896cbdfc38",
   "outputs": [],
   "execution_count": null
  },
  {
   "metadata": {},
   "cell_type": "code",
   "source": [
    "# det.make_sub_detectors()\n",
    "event_nums = det.plot_xy_amp_sum_vs_event_num(True, 500, False, 15)\n",
    "\n",
    "# if realign_dream:\n",
    "#     det.center[2] = 722\n",
    "#     det.add_rotation(90, 'z')"
   ],
   "id": "e6c35250a7d6a5ee",
   "outputs": [],
   "execution_count": null
  },
  {
   "metadata": {},
   "cell_type": "code",
   "source": "ray_data.plot_xy(det.center[2], plt_type='both', bins=10)",
   "id": "4591ffb76b2f19e0",
   "outputs": [],
   "execution_count": null
  },
  {
   "metadata": {},
   "cell_type": "code",
   "source": "plot_ray_hits_2d(det, ray_data)",
   "id": "3f78557baae37f1",
   "outputs": [],
   "execution_count": null
  },
  {
   "metadata": {},
   "cell_type": "code",
   "source": [
    "det.set_sub_det_event_filters(det.dream_data.event_nums[~spark_event_filter])\n",
    "plot_ray_hits_2d(det, ray_data)"
   ],
   "id": "896efe6ec6abfa9c",
   "outputs": [],
   "execution_count": null
  },
  {
   "metadata": {},
   "cell_type": "code",
   "source": "det.plot_hits_1d()",
   "id": "ffcc049142f7247",
   "outputs": [],
   "execution_count": null
  },
  {
   "metadata": {},
   "cell_type": "code",
   "source": "print(len(det.dream_data.hits))",
   "id": "5c92c5e585a12aa4",
   "outputs": [],
   "execution_count": null
  },
  {
   "metadata": {},
   "cell_type": "code",
   "source": [
    "print(det.sub_detectors[0].x_hits.shape)\n",
    "# print(len(det.sub_detectors[0].x_clusters))"
   ],
   "id": "a4c86c217692a902",
   "outputs": [],
   "execution_count": null
  },
  {
   "metadata": {},
   "cell_type": "code",
   "source": "print(len(ray_data.ray_data))",
   "id": "e5ad172ad34c3241",
   "outputs": [],
   "execution_count": null
  },
  {
   "metadata": {},
   "cell_type": "code",
   "source": "det.plot_centroids_2d()",
   "id": "f4359c4183a9046c",
   "outputs": [],
   "execution_count": null
  },
  {
   "metadata": {},
   "cell_type": "code",
   "source": [
    "for event_num in range(min(len(det.dream_data.hits), 2)):\n",
    "    det.plot_event_1d(event_num)\n",
    "    det.plot_event_2d(event_num)\n",
    "    det.dream_data.plot_waveforms(event_num)"
   ],
   "id": "a8d0d5701a809c8e",
   "outputs": [],
   "execution_count": null
  },
  {
   "metadata": {},
   "cell_type": "code",
   "source": [
    "det.set_sub_det_event_filters(None)\n",
    "\n",
    "z_orig = det.center[2]\n",
    "x_bnds = det.center[0] - det.size[0] / 2, det.center[0] + det.size[0] / 2\n",
    "y_bnds = det.center[1] - det.size[1] / 2, det.center[1] + det.size[1] / 2\n",
    "ray_traversing_triggers = ray_data.get_traversing_triggers(z_orig, x_bnds, y_bnds, expansion_factor=0.1)\n",
    "\n",
    "alignment_file = f'{alignment_dir}{det.name}_alignment.txt'\n",
    "if realign_dream:\n",
    "    align_dream(det, ray_data, z_align_range, z_rot_align_range)\n",
    "    det.write_det_alignment_to_file(alignment_file)\n",
    "else:\n",
    "    det.read_det_alignment_from_file(alignment_file)"
   ],
   "id": "a7bcc6d6ec47364d",
   "outputs": [],
   "execution_count": null
  },
  {
   "metadata": {},
   "cell_type": "code",
   "source": [
    "det.set_sub_det_event_filters(det.dream_data.event_nums[~spark_event_filter])\n",
    "\n",
    "z_orig = det.center[2]\n",
    "x_bnds = det.center[0] - det.size[0] / 2, det.center[0] + det.size[0] / 2\n",
    "y_bnds = det.center[1] - det.size[1] / 2, det.center[1] + det.size[1] / 2\n",
    "ray_traversing_triggers = ray_data.get_traversing_triggers(z_orig, x_bnds, y_bnds, expansion_factor=0.1)\n",
    "\n",
    "alignment_file = f'{alignment_dir}{det.name}_alignment.txt'\n",
    "if realign_dream:\n",
    "    align_dream(det, ray_data, z_align_range, z_rot_align_range)\n",
    "    det.write_det_alignment_to_file(alignment_file)\n",
    "else:\n",
    "    det.read_det_alignment_from_file(alignment_file)"
   ],
   "id": "736061dce94c852a",
   "outputs": [],
   "execution_count": null
  },
  {
   "metadata": {},
   "cell_type": "code",
   "source": [
    "x_rays_spark, y_rays_spark, e_num_spark = ray_data.get_xy_positions(det.center[2], spark_event_nums)\n",
    "fig, ax = plt.subplots()\n",
    "ax.scatter(x_rays_spark, y_rays_spark, alpha=0.7)\n",
    "ax.set_xlim()\n",
    "corners = [[0, 0, 0], [0, det.active_size[1], 0], [det.active_size[0], det.active_size[1], 0], [det.active_size[0], 0, 0], [0, 0, 0]]\n",
    "corners = det.convert_coords_to_global(corners)\n",
    "ax.plot([corner[0] for corner in corners], [corner[1] for corner in corners], color='black', linewidth=1.5)\n",
    "ax.set_xlim(left=-50)\n",
    "ax.set_xlabel('x (mm)')\n",
    "ax.set_ylabel('y (mm)')\n",
    "ax.set_title('Cosmic Ray Positions for spark events')\n",
    "ax.annotate(f'Number of Spark Events: {len(spark_event_nums)}\\nNumber of Good Rays for Spark Events: {len(e_num_spark)}', (-20, 0))"
   ],
   "id": "2dd00d4b97077586",
   "outputs": [],
   "execution_count": null
  },
  {
   "metadata": {},
   "cell_type": "code",
   "source": "plot_ray_hits_2d(det, ray_data)",
   "id": "8fa2134d357b7e0e",
   "outputs": [],
   "execution_count": null
  },
  {
   "metadata": {},
   "cell_type": "code",
   "source": "get_efficiency(det, ray_data, plot=True, in_det=True, tolerance=0.2, grid_size=10)",
   "id": "61e6d22f7111d900",
   "outputs": [],
   "execution_count": null
  },
  {
   "metadata": {},
   "cell_type": "code",
   "source": "get_residuals(det, ray_data, plot=True, in_det=True, tolerance=0.2)",
   "id": "2c65dcd9903d74c7",
   "outputs": [],
   "execution_count": null
  },
  {
   "metadata": {},
   "cell_type": "code",
   "source": "sub_resids = get_residuals_subdets_with_err(det, ray_data, in_det=True, tolerance=0.2)",
   "id": "8a9c772598f6c367",
   "outputs": [],
   "execution_count": null
  },
  {
   "metadata": {},
   "cell_type": "code",
   "source": [
    "sub_resids = pd.DataFrame(sub_resids)\n",
    "print(sub_resids)\n",
    "fig, ax = plt.subplots()\n",
    "ax.errorbar(sub_resids['interpitch_x'], sub_resids['x_std'] * 1e3, yerr=sub_resids['x_std_err'] * 1e3, fmt='o', capsize=5, label='X')\n",
    "ax.errorbar(sub_resids['interpitch_x'], sub_resids['y_std'] * 1e3, yerr=sub_resids['y_std_err'] * 1e3, fmt='o', capsize=5, label='Y')\n",
    "ax.legend()\n",
    "ax.set_xlabel('X Strip Interpitch (mm)')\n",
    "ax.set_ylabel('Resolution (μm)')\n",
    "fig.tight_layout()"
   ],
   "id": "94a5a743d64c0ceb",
   "outputs": [],
   "execution_count": null
  },
  {
   "metadata": {},
   "cell_type": "code",
   "source": [
    "sub_resids = get_residuals_subdets_with_err(det, ray_data, in_det=True, tolerance=0.2, max_r=2)\n",
    "sub_resids = pd.DataFrame(sub_resids)\n",
    "print(sub_resids)\n",
    "fig, ax = plt.subplots()\n",
    "ax.errorbar(sub_resids['interpitch_x'], sub_resids['x_std'] * 1e3, yerr=sub_resids['x_std_err'] * 1e3, fmt='o', capsize=5, label='X')\n",
    "ax.errorbar(sub_resids['interpitch_x'], sub_resids['y_std'] * 1e3, yerr=sub_resids['y_std_err'] * 1e3, fmt='o', capsize=5, label='Y')\n",
    "ax.legend()\n",
    "ax.set_xlabel('X Strip Interpitch (mm)')\n",
    "ax.set_ylabel('Resolution (μm)')\n",
    "fig.tight_layout()"
   ],
   "id": "1758bc338cdc0c65",
   "outputs": [],
   "execution_count": null
  },
  {
   "metadata": {},
   "cell_type": "markdown",
   "source": "New stuff above",
   "id": "36ab872060328dcc"
  },
  {
   "metadata": {},
   "cell_type": "code",
   "source": [
    "sub_resids = get_residuals_subdets_with_err(det, ray_data, in_det=True, tolerance=0.2, max_r=2)\n",
    "sub_resids = pd.DataFrame(sub_resids)\n",
    "print(sub_resids)\n",
    "fig, ax = plt.subplots()\n",
    "ax.errorbar(sub_resids['interpitch_x'], sub_resids['x_std'] * 1e3, yerr=sub_resids['x_std_err'] * 1e3, fmt='o', capsize=5, label='X')\n",
    "ax.errorbar(sub_resids['interpitch_x'], sub_resids['y_std'] * 1e3, yerr=sub_resids['y_std_err'] * 1e3, fmt='o', capsize=5, label='Y')\n",
    "ax.legend()\n",
    "ax.set_xlabel('X Strip Interpitch (mm)')\n",
    "ax.set_ylabel('Resolution (μm)')\n",
    "fig.tight_layout()"
   ],
   "id": "cdfe756a734ab9f6",
   "outputs": [],
   "execution_count": null
  },
  {
   "metadata": {},
   "cell_type": "code",
   "source": [
    "x_rays, y_rays, event_num_rays = ray_data.get_xy_positions(det.center[2])\n",
    "pitches, x_means, x_errs, y_means, y_errs = [], [], [], [], []\n",
    "for sub_det in det.sub_detectors:\n",
    "    x_rays_in, y_rays_in, event_num_rays_in = get_rays_in_sub_det_vectorized(det, det.sub_detectors[sub_det.sub_index], x_rays, y_rays, event_num_rays, tolerance=-2)\n",
    "    print(f'Rays in sub-detector {sub_det.sub_index}: {len(x_rays_in)}, total rays: {len(x_rays)}')\n",
    "    x_mean, y_mean, x_err, y_err = sub_det.plot_cluster_sizes(event_nums=event_num_rays_in)\n",
    "    pitches.append(sub_det.x_interpitch)\n",
    "    x_means.append(x_mean)\n",
    "    x_errs.append(x_err)\n",
    "    y_means.append(y_mean)\n",
    "    y_errs.append(y_err)"
   ],
   "id": "a1604ab2711bc8e7",
   "outputs": [],
   "execution_count": null
  },
  {
   "metadata": {},
   "cell_type": "code",
   "source": [
    "fig, ax = plt.subplots()\n",
    "ax.errorbar(pitches, x_means, yerr=x_errs, fmt='o', capsize=5, label='X')\n",
    "ax.errorbar(pitches, y_means, yerr=y_errs, fmt='o', capsize=5, label='Y')\n",
    "ax.legend()\n",
    "ax.set_xlabel('X Strip Interpitch (mm)')\n",
    "ax.set_ylabel('Cluster Size (N strips)')\n",
    "fig.tight_layout()"
   ],
   "id": "bbd0093aa2a4e10c",
   "outputs": [],
   "execution_count": null
  },
  {
   "metadata": {},
   "cell_type": "code",
   "source": [
    "fig, ax = plt.subplots()\n",
    "ax.plot(pitches, x_means, 'o', label='X')\n",
    "ax.plot(pitches, y_means, 'o', label='Y')\n",
    "ax.legend()\n",
    "ax.set_xlabel('X Strip Interpitch (mm)')\n",
    "ax.set_ylabel('Cluster Size (N strips)')\n",
    "fig.tight_layout()"
   ],
   "id": "8fc90faf3d3e1ee0",
   "outputs": [],
   "execution_count": null
  },
  {
   "metadata": {},
   "cell_type": "code",
   "source": "x_res, y_res, x_rays, y_rays = get_raw_residuals(det, ray_data, in_det=True, tolerance=0.0)",
   "id": "e572bb949603d57d",
   "outputs": [],
   "execution_count": null
  },
  {
   "metadata": {},
   "cell_type": "code",
   "source": [
    "scan_xs = np.arange(-40, 90, 1.0)\n",
    "scan_ys = np.arange(-10, 160, 1.0)\n",
    "\n",
    "# Generate mesh grid\n",
    "x_mesh, y_mesh = np.meshgrid(scan_xs, scan_ys)\n",
    "xy_pairs = list(zip(x_mesh.ravel(), y_mesh.ravel()))  # Flatten to list of (x, y) pairs\n",
    "scan_radius = 10  # mm\n",
    "min_events = 30\n",
    "# res_range = [160, 810]  # μm\n",
    "# mean_range = [-200, 210]  # μm\n",
    "res_range = None  # μm\n",
    "mean_range = None  # μm\n",
    "\n",
    "scan_resolutions_x, scan_means_x, events_x = get_circle_scan(np.array(x_res), np.array(x_rays), np.array(y_rays), xy_pairs, radius=scan_radius, min_events=min_events, percentile_cuts=(1, 99), shape='square', plot=False)\n",
    "plot_2D_circle_scan(scan_resolutions_x, scan_means_x, scan_xs, scan_ys, scan_events=events_x, radius=scan_radius, percentile_filter=(1, 99), conversion_factor=1e3, unit_str='μm', res_title='X (Top) Spatial Resolution', mean_title='X (Top) Mean Residual', res_range=res_range, mean_range=mean_range)"
   ],
   "id": "d16fb0e88d3bbe6f",
   "outputs": [],
   "execution_count": null
  },
  {
   "metadata": {},
   "cell_type": "code",
   "source": [
    "scan_resolutions_y, scan_means_y, events_y = get_circle_scan(np.array(y_res), np.array(x_rays), np.array(y_rays), xy_pairs, radius=scan_radius, min_events=min_events, percentile_cuts=(1, 99), shape='square', plot=False)\n",
    "plot_2D_circle_scan(scan_resolutions_y, scan_means_y, scan_xs, scan_ys, scan_events=events_y, radius=scan_radius, percentile_filter=(1, 99), conversion_factor=1e3, unit_str='μm', res_title='Y (Bottom) Spatial Resolution', mean_title='Y (Bottom) Mean Residual', res_range=res_range, mean_range=mean_range)"
   ],
   "id": "92ec24eb2735cdb0",
   "outputs": [],
   "execution_count": null
  },
  {
   "metadata": {},
   "cell_type": "code",
   "source": [
    "x_res, y_res, x_rays, y_rays = get_raw_residuals(det, ray_data, in_det=True, tolerance=0.0)\n",
    "scan_radius = 10\n",
    "min_events = 20\n",
    "x_rays, y_rays, event_num_rays = ray_data.get_xy_positions(det.center[2])\n",
    "x_sizes_all, y_sizes_all, x_rays_cluster_sizes, y_rays_cluster_sizes = [], [], [], []\n",
    "for sub_det in det.sub_detectors:\n",
    "    x_rays_in, y_rays_in, event_num_rays_in = get_rays_in_sub_det_vectorized(det, det.sub_detectors[sub_det.sub_index], x_rays, y_rays, event_num_rays, tolerance=0)\n",
    "    x_sizes, y_sizes, ray_mask = sub_det.get_cluster_sizes(largest=True, event_nums=event_num_rays_in, return_ray_mask=True)\n",
    "    x_sizes_all.extend(x_sizes)\n",
    "    y_sizes_all.extend(y_sizes)\n",
    "    x_rays_cluster_sizes.extend(x_rays_in[ray_mask])\n",
    "    y_rays_cluster_sizes.extend(y_rays_in[ray_mask])\n",
    "scan_resolutions_csx, scan_means_csx, events_csx = get_circle_scan(np.array(x_sizes_all), np.array(x_rays_cluster_sizes), np.array(y_rays_cluster_sizes), xy_pairs, radius=scan_radius, shape='square', gaus_fit=False, min_events=min_events, plot=False)\n",
    "plot_2D_circle_scan(scan_resolutions_csx, scan_means_csx, scan_xs, scan_ys, scan_events=events_csx, radius=scan_radius, percentile_filter=(1, 95), plot='mean', unit_str='N strips', mean_title='X Cluster Size')"
   ],
   "id": "7e5d2d67a14dc9a1",
   "outputs": [],
   "execution_count": null
  },
  {
   "metadata": {},
   "cell_type": "code",
   "source": [
    "scan_resolutions_csy, scan_means_csy, events_csy = get_circle_scan(np.array(y_sizes_all), np.array(x_rays_cluster_sizes), np.array(y_rays_cluster_sizes), xy_pairs, radius=scan_radius, percentile_cuts=(1, 99), shape='square', gaus_fit=False, min_events=min_events, plot=False)\n",
    "plot_2D_circle_scan(scan_resolutions_csy, scan_means_csy, scan_xs, scan_ys, scan_events=events_csy, radius=scan_radius, percentile_filter=(1, 99), plot='mean', unit_str='N strips', mean_title='Y Cluster Size')"
   ],
   "id": "8682b18b454ebdc7",
   "outputs": [],
   "execution_count": null
  },
  {
   "metadata": {},
   "cell_type": "code",
   "source": [
    "det.dream_data.correct_for_fine_timestamps()\n",
    "\n",
    "sigma_x, sigma_x_err = det.dream_data.plot_event_time_maxes(max_channel=True, channels=np.arange(0, int(256 / 2)), min_amp=None, plot=True)\n",
    "plt.title(f'Time of Max for X (Top) Strips')\n",
    "\n",
    "sigma_y, sigma_y_err = det.dream_data.plot_event_time_maxes(max_channel=True, channels=np.arange(int(256 / 2), 256), min_amp=None, plot=True)\n",
    "plt.title(f'Time of Max for Y (Bottom) Strips')"
   ],
   "id": "c8de4bc1324b48e6",
   "outputs": [],
   "execution_count": null
  },
  {
   "metadata": {},
   "cell_type": "code",
   "source": [
    "min_amp = 600\n",
    "sigma_x, sigma_x_err = det.dream_data.plot_event_time_maxes(max_channel=True, channels=np.arange(0, int(256 / 2)), min_amp=min_amp, plot=True)\n",
    "plt.title(f'Time of Max for X (Top) Strips Min Amp {min_amp}')\n",
    "\n",
    "sigma_y, sigma_y_err = det.dream_data.plot_event_time_maxes(max_channel=True, channels=np.arange(int(256 / 2), 256), min_amp=min_amp, plot=True)\n",
    "plt.title(f'Time of Max for Y (Bottom) Strips Min Amp {min_amp}')"
   ],
   "id": "38d744c28abee72a",
   "outputs": [],
   "execution_count": null
  },
  {
   "metadata": {},
   "cell_type": "code",
   "source": [
    "x_rays, y_rays, event_num_rays = ray_data.get_xy_positions(det.center[2])\n",
    "x_ray_angles, y_ray_angles, event_num_rays = ray_data.get_xy_angles()\n",
    "\n",
    "in_det_mask = det.in_det_mask(x_rays, y_rays, np.full_like(x_rays, det.center[2]))\n",
    "\n",
    "fig_x_angles, ax_x_angles = plt.subplots()\n",
    "ax_x_angles.hist(np.rad2deg(x_ray_angles), bins=100)\n",
    "ax_x_angles.hist(np.rad2deg(x_ray_angles[in_det_mask]), color='r', bins=100)\n",
    "ax_x_angles.set_xlabel('Ray X Angles')\n",
    "\n",
    "fig_y_angles, ax_y_angles = plt.subplots()\n",
    "ax_y_angles.hist(np.rad2deg(y_ray_angles), bins=100)\n",
    "ax_y_angles.hist(np.rad2deg(y_ray_angles[in_det_mask]), color='r', bins=100)\n",
    "ax_y_angles.set_xlabel('Ray Y Angles')"
   ],
   "id": "70dc64b037bb7337",
   "outputs": [],
   "execution_count": null
  },
  {
   "metadata": {},
   "cell_type": "code",
   "source": [
    "# min_amp = 0\n",
    "# max_ray_angle = 8  # Degrees\n",
    "# good_event_num_mask = np.isin(event_num_rays, det.dream_data.event_nums)\n",
    "# x_rays_angles_filtered, y_ray_angles_filtered = x_ray_angles[good_event_num_mask], y_ray_angles[good_event_num_mask]\n",
    "# ray_filter = (np.abs(x_rays_angles_filtered) < np.deg2rad(max_ray_angle)) & (np.abs(y_ray_angles_filtered) < np.deg2rad(max_ray_angle))\n",
    "# sigma_x, sigma_x_err = det.dream_data.plot_event_time_maxes(max_channel=True, channels=np.arange(0, int(256 / 2)), min_amp=min_amp, event_filter=ray_filter, plot=True)\n",
    "# plt.title(f'Time of Max for X (Top) Strips Min Amp {min_amp} & Max Ray Angle {max_ray_angle}°')\n",
    "#\n",
    "# sigma_y, sigma_y_err = det.dream_data.plot_event_time_maxes(max_channel=True, channels=np.arange(int(256 / 2), 256), min_amp=min_amp, event_filter=ray_filter, plot=True)\n",
    "# plt.title(f'Time of Max for Y (Bottom) Strips Min Amp {min_amp} & Max Ray Angle {max_ray_angle}°')"
   ],
   "id": "19db185e3d67db90",
   "outputs": [],
   "execution_count": null
  },
  {
   "metadata": {},
   "cell_type": "code",
   "source": [
    "# min_amp = 350\n",
    "# angles = np.arange(2, 20, 1)  # example: 2, 4, 6, 8 degrees\n",
    "#\n",
    "# sigma_x_vals, sigma_x_errs = [], []\n",
    "# sigma_y_vals, sigma_y_errs = [], []\n",
    "#\n",
    "# for max_ray_angle in angles:\n",
    "#     good_event_num_mask = np.isin(event_num_rays, det.dream_data.event_nums)\n",
    "#     x_rays_angles_filtered = x_ray_angles[good_event_num_mask]\n",
    "#     y_rays_angles_filtered = y_ray_angles[good_event_num_mask]\n",
    "#\n",
    "#     ray_filter = (\n",
    "#         (np.abs(x_rays_angles_filtered) < np.deg2rad(max_ray_angle)) &\n",
    "#         (np.abs(y_rays_angles_filtered) < np.deg2rad(max_ray_angle))\n",
    "#     )\n",
    "#\n",
    "#     # --- X strips ---\n",
    "#     sigma_x, sigma_x_err = det.dream_data.plot_event_time_maxes(\n",
    "#         max_channel=True,\n",
    "#         channels=np.arange(0, int(256 / 2)),\n",
    "#         min_amp=min_amp,\n",
    "#         event_filter=ray_filter,\n",
    "#         plot=False\n",
    "#     )\n",
    "#\n",
    "#     sigma_x_vals.append(sigma_x)\n",
    "#     sigma_x_errs.append(sigma_x_err)\n",
    "#\n",
    "#     # --- Y strips ---\n",
    "#     sigma_y, sigma_y_err = det.dream_data.plot_event_time_maxes(\n",
    "#         max_channel=True,\n",
    "#         channels=np.arange(int(256 / 2), 256),\n",
    "#         min_amp=min_amp,\n",
    "#         event_filter=ray_filter,\n",
    "#         plot=False\n",
    "#     )\n",
    "#\n",
    "#     sigma_y_vals.append(sigma_y)\n",
    "#     sigma_y_errs.append(sigma_y_err)\n",
    "#\n",
    "# # --- summary plot ---\n",
    "# plt.figure()\n",
    "# plt.errorbar(angles, sigma_x_vals, yerr=sigma_x_errs, fmt='o-', label=\"X strips\")\n",
    "# plt.errorbar(angles, sigma_y_vals, yerr=sigma_y_errs, fmt='s-', label=\"Y strips\")\n",
    "# plt.xlabel(\"Max Ray Angle (degrees)\")\n",
    "# plt.ylabel(\"σ (Time of Max)\")\n",
    "# plt.title(\"σ vs Max Ray Angle\")\n",
    "# plt.legend()\n",
    "# plt.show()\n"
   ],
   "id": "852c78194ebf36ea",
   "outputs": [],
   "execution_count": null
  },
  {
   "metadata": {},
   "cell_type": "code",
   "source": [
    "x_time_maxes = det.dream_data.get_event_time_maxes(max_channel=True, channels=np.arange(0, int(256 / 2)), min_amp=None, filter_times=False)\n",
    "x_time_maxes, x_time_filter = det.dream_data.filter_time_maxes(x_time_maxes, return_mask=True)\n",
    "y_time_maxes = det.dream_data.get_event_time_maxes(max_channel=True, channels=np.arange(int(256 / 2), 256), min_amp=None, filter_times=False)\n",
    "y_time_maxes, y_time_filter = det.dream_data.filter_time_maxes(y_time_maxes, return_mask=True)\n",
    "time_ray_event_mask_x = np.isin(event_num_rays, det.dream_data.event_nums[x_time_filter])\n",
    "time_ray_event_mask_y = np.isin(event_num_rays, det.dream_data.event_nums[y_time_filter])\n",
    "x_rays_timing_x, y_rays_timing_x = x_rays[time_ray_event_mask_x], y_rays[time_ray_event_mask_x]\n",
    "x_rays_timing_y, y_rays_timing_y = x_rays[time_ray_event_mask_y], y_rays[time_ray_event_mask_y]"
   ],
   "id": "7134c637ed9168e6",
   "outputs": [],
   "execution_count": null
  },
  {
   "metadata": {},
   "cell_type": "code",
   "source": [
    "scan_radius = 10\n",
    "min_events = 30\n",
    "res_range = [20, 44]  # ns\n",
    "mean_range = [405, 425]  # ns\n",
    "scan_time_resolutions_x, scan_time_means_x, events_time_x = get_circle_scan(np.array(x_time_maxes), np.array(x_rays_timing_x), np.array(y_rays_timing_x), xy_pairs, radius=scan_radius, min_events=min_events, percentile_cuts=(1, 99), shape='square', plot=False)\n",
    "plot_2D_circle_scan(scan_time_resolutions_x, scan_time_means_x, scan_xs, scan_ys, scan_events=events_time_x, radius=scan_radius, percentile_filter=(1, 99), plot='both', unit_str='ns', res_title='Time Resolution X (Top) Strips', mean_title='Mean Time X (Top) Strips', res_range=res_range, mean_range=mean_range)"
   ],
   "id": "2053c1d42ec4d188",
   "outputs": [],
   "execution_count": null
  },
  {
   "metadata": {},
   "cell_type": "code",
   "source": [
    "scan_time_resolutions_y, scan_time_means_y, events_time_y = get_circle_scan(np.array(y_time_maxes), np.array(x_rays_timing_y), np.array(y_rays_timing_y), xy_pairs, radius=scan_radius, min_events=min_events, percentile_cuts=(1, 99), shape='square', plot=False)\n",
    "plot_2D_circle_scan(scan_time_resolutions_y, scan_time_means_y, scan_xs, scan_ys, scan_events=events_time_y, radius=scan_radius, percentile_filter=(1, 99), plot='both', unit_str='ns', res_title='Time Resolution Y (Bottom) Strips', mean_title='Mean Time Y (Bottom) Strips', res_range=res_range, mean_range=mean_range)"
   ],
   "id": "940ef7896dc88d47",
   "outputs": [],
   "execution_count": null
  },
  {
   "metadata": {},
   "cell_type": "code",
   "source": [
    "channel_nums = np.arange(27, 127, 1)\n",
    "min_amp = 600\n",
    "time_resolutions_x, time_resolutions_errs_x = [], []\n",
    "for channel_num in channel_nums:\n",
    "    sigma_x, sigma_x_err = det.dream_data.plot_event_time_maxes(max_channel=True, channels=[channel_num], min_amp=min_amp, plot=False)\n",
    "    time_resolutions_x.append(sigma_x)\n",
    "    time_resolutions_errs_x.append(sigma_x_err)\n",
    "fig, ax = plt.subplots()\n",
    "ax.errorbar(channel_nums, np.array(time_resolutions_x), yerr=np.array(time_resolutions_errs_x), fmt='o', capsize=5)\n",
    "ax.set_xlabel('Channel Number')\n",
    "ax.set_ylabel('Time Resolution (ns)')\n",
    "ax.set_title(f'Time Resolution for X (Top) Strips, Min Amp {min_amp}')\n",
    "fig.tight_layout()"
   ],
   "id": "790edb4c37635eac",
   "outputs": [],
   "execution_count": null
  },
  {
   "metadata": {},
   "cell_type": "code",
   "source": [
    "channel_nums = np.arange(155, 256, 1)\n",
    "min_amp, max_amp = 600, 3500\n",
    "time_resolutions_y, time_resolutions_errs_y = [], []\n",
    "for channel_num in channel_nums:\n",
    "    sigma_y, sigma_y_err = det.dream_data.plot_event_time_maxes(max_channel=True, channels=[channel_num], min_amp=min_amp, plot=False)\n",
    "    time_resolutions_y.append(sigma_y)\n",
    "    time_resolutions_errs_y.append(sigma_y_err)\n",
    "fig, ax = plt.subplots()\n",
    "ax.errorbar(channel_nums, np.array(time_resolutions_y), yerr=np.array(time_resolutions_errs_y), fmt='o', capsize=5)\n",
    "ax.set_xlabel('Channel Number')\n",
    "ax.set_ylabel('Time Resolution (ns)')\n",
    "ax.set_title(f'Time Resolution for Y (Bottom) Strips, Min Amp {min_amp}')\n",
    "fig.tight_layout()"
   ],
   "id": "5029e71f1178cadd",
   "outputs": [],
   "execution_count": null
  },
  {
   "metadata": {},
   "cell_type": "code",
   "source": [
    "min_amps = np.arange(0, 3000, 50)\n",
    "time_resolutions_x, time_resolutions_errs_x = [], []\n",
    "time_resolutions_y, time_resolutions_errs_y = [], []\n",
    "for min_amp_i in min_amps:\n",
    "    sigma_x, sigma_x_err = det.dream_data.plot_event_time_maxes(max_channel=True, channels=np.arange(0, 128), min_amp=min_amp_i, max_amp=3500, plot=False)\n",
    "    time_resolutions_x.append(sigma_x)\n",
    "    time_resolutions_errs_x.append(sigma_x_err)\n",
    "    sigma_y, sigma_y_err = det.dream_data.plot_event_time_maxes(max_channel=True, channels=np.arange(129, 256), min_amp=min_amp_i, max_amp=3500, plot=False)\n",
    "    time_resolutions_y.append(sigma_y)\n",
    "    time_resolutions_errs_y.append(sigma_y_err)\n",
    "fig, ax = plt.subplots()\n",
    "ax.errorbar(min_amps, np.array(time_resolutions_x), yerr=np.array(time_resolutions_errs_x), fmt='o', capsize=5, label='X (Top) Strips')\n",
    "ax.errorbar(min_amps, np.array(time_resolutions_y), yerr=np.array(time_resolutions_errs_y), fmt='o', capsize=5, label='Y (Bottom) Strips')\n",
    "ax.set_xlabel('Minimum Amplitude Cut')\n",
    "ax.set_ylabel('Time Resolution (ns)')\n",
    "ax.set_title(f'Time Resolution vs Min Amplitude Cut')\n",
    "ax.legend()\n",
    "fig.tight_layout()"
   ],
   "id": "598d00d9d5a3f56e",
   "outputs": [],
   "execution_count": null
  },
  {
   "metadata": {},
   "cell_type": "code",
   "source": [
    "min_amps = np.arange(0, 2600, 50)\n",
    "amp_range = 50\n",
    "time_resolutions_x, time_resolutions_errs_x = [], []\n",
    "time_resolutions_y, time_resolutions_errs_y = [], []\n",
    "for min_amp_i in min_amps:\n",
    "    sigma_x, sigma_x_err = det.dream_data.plot_event_time_maxes(max_channel=True, channels=np.arange(0, 128), min_amp=min_amp_i, max_amp=min_amp_i + amp_range, plot=False)\n",
    "    time_resolutions_x.append(sigma_x)\n",
    "    time_resolutions_errs_x.append(sigma_x_err)\n",
    "    sigma_y, sigma_y_err = det.dream_data.plot_event_time_maxes(max_channel=True, channels=np.arange(129, 256), min_amp=min_amp_i, max_amp=min_amp_i + amp_range, plot=False)\n",
    "    time_resolutions_y.append(sigma_y)\n",
    "    time_resolutions_errs_y.append(sigma_y_err)\n",
    "fig, ax = plt.subplots()\n",
    "mid_amps = min_amps + amp_range / 2\n",
    "ax.errorbar(mid_amps, np.array(time_resolutions_x), yerr=np.array(time_resolutions_errs_x), fmt='o', capsize=5, label='X (Top) Strips')\n",
    "ax.errorbar(mid_amps, np.array(time_resolutions_y), yerr=np.array(time_resolutions_errs_y), fmt='o', capsize=5, label='Y (Bottom) Strips')\n",
    "ax.set_xlabel('Minimum Amplitude Cut')\n",
    "ax.set_ylabel('Time Resolution (ns)')\n",
    "ax.set_title(f'Time Resolution vs Amplitude ({amp_range}ns window)')\n",
    "ax.legend()\n",
    "fig.tight_layout()"
   ],
   "id": "65b2c5f8385520e8",
   "outputs": [],
   "execution_count": null
  },
  {
   "metadata": {},
   "cell_type": "code",
   "source": [
    "edge_cushion = 5 # mm\n",
    "det_z = det.center[2]\n",
    "for sub_det in det.sub_detectors:\n",
    "    x_min_loc, x_max_loc = np.min(sub_det.x_pos), np.max(sub_det.x_pos)\n",
    "    y_min_loc, y_max_loc = np.min(sub_det.y_pos), np.max(sub_det.y_pos)\n",
    "    top_left, top_right = (x_min_loc, y_max_loc, det_z), (x_max_loc, y_max_loc, det_z)\n",
    "    bottom_left, bottom_right = (x_min_loc, y_min_loc, det_z), (x_max_loc, y_min_loc, det_z)\n",
    "    top_left, top_right = det.convert_coords_to_global(top_left), det.convert_coords_to_global(top_right)\n",
    "    bottom_left, bottom_right = det.convert_coords_to_global(bottom_left), det.convert_coords_to_global(bottom_right)\n",
    "    print(f'Sub-detector {sub_det.sub_index} corners:')\n",
    "    print(f'Top Left: {top_left}, Top Right: {top_right}, Bottom Left: {bottom_left}, Bottom Right: {bottom_right}')\n"
   ],
   "id": "63a4d50a950da6ad",
   "outputs": [],
   "execution_count": null
  }
 ],
 "metadata": {
  "kernelspec": {
   "display_name": "Python 3",
   "language": "python",
   "name": "python3"
  },
  "language_info": {
   "codemirror_mode": {
    "name": "ipython",
    "version": 2
   },
   "file_extension": ".py",
   "mimetype": "text/x-python",
   "name": "python",
   "nbconvert_exporter": "python",
   "pygments_lexer": "ipython2",
   "version": "2.7.6"
  }
 },
 "nbformat": 4,
 "nbformat_minor": 5
}
