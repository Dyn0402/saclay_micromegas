{
 "cells": [
  {
   "metadata": {},
   "cell_type": "code",
   "outputs": [],
   "execution_count": null,
   "source": [
    "import numpy as np\n",
    "import matplotlib.pyplot as plt\n",
    "import os\n",
    "\n",
    "from DetectorConfigLoader import DetectorConfigLoader\n",
    "from DreamDetector import DreamDetector\n",
    "from Detector import Detector\n",
    "from DreamData import DreamData\n"
   ],
   "id": "296a7eae9056cbdc"
  },
  {
   "metadata": {},
   "cell_type": "code",
   "outputs": [],
   "execution_count": null,
   "source": [
    "base_dir = 'F:/Saclay/cosmic_data/'\n",
    "det_type_info_dir = 'C:/Users/Dylan/PycharmProjects/Cosmic_Bench_DAQ_Control/config/detectors/'\n",
    "out_dir = 'F:/Saclay/Analysis/Cosmic Bench/11-5-24/'\n",
    "run_name = 'drift_scan_11-13-24'\n",
    "run_dir = f'{base_dir}{run_name}/'\n",
    "sub_run_name = 'drift_800'\n",
    "\n",
    "det_single = 'scintillator_top'\n",
    "\n",
    "# file_nums = list(range(0, 50))\n",
    "file_nums = 'all'\n",
    "\n",
    "chunk_size = 100  # Number of files to process at once\n",
    "\n",
    "run_json_path = f'{run_dir}run_config.json'\n",
    "data_dir = f'{run_dir}{sub_run_name}/filtered_root/'\n",
    "ped_dir = f'{run_dir}{sub_run_name}/decoded_root/'\n",
    "\n",
    "try:\n",
    "    os.mkdir(out_dir)\n",
    "except FileExistsError:\n",
    "    pass"
   ],
   "id": "b6932dc613220199"
  },
  {
   "metadata": {},
   "cell_type": "code",
   "outputs": [],
   "execution_count": null,
   "source": "det_config_loader = DetectorConfigLoader(run_json_path, det_type_info_dir)",
   "id": "3d2ccbbc825929ff"
  },
  {
   "metadata": {},
   "cell_type": "code",
   "outputs": [],
   "execution_count": null,
   "source": [
    "det_config = det_config_loader.get_det_config(det_single, sub_run_name=sub_run_name)\n",
    "det = DreamDetector(config=det_config)\n",
    "print(f'FEU Num: {det.feu_num}')\n",
    "print(f'FEU Channels: {det.feu_connectors}')\n",
    "print(f'HV: {det.hv}')\n",
    "det.load_dream_data(data_dir, ped_dir, 10, file_nums, chunk_size, save_waveforms=True, waveform_fit_func='max_sample')\n",
    "print(f'Hits shape: {det.dream_data.hits.shape}')"
   ],
   "id": "62ce93bcd364619b"
  },
  {
   "metadata": {},
   "cell_type": "code",
   "outputs": [],
   "execution_count": null,
   "source": "det.dream_data.plot_fine_timestamp_hist()",
   "id": "670c3b8afb4bcccc"
  },
  {
   "metadata": {},
   "cell_type": "code",
   "outputs": [],
   "execution_count": null,
   "source": "det.dream_data.plot_waveforms(0)",
   "id": "92fb35ac6c3fb381"
  },
  {
   "metadata": {},
   "cell_type": "code",
   "outputs": [],
   "execution_count": null,
   "source": "det.dream_data.plot_fits({'time_max': [-1, 40]}, n_max=10)",
   "id": "8c591627d445eb33"
  },
  {
   "metadata": {},
   "cell_type": "code",
   "outputs": [],
   "execution_count": null,
   "source": [
    "det.dream_data.fine_timestamp_constant = 1.0 / 6\n",
    "det.dream_data.correct_for_fine_timestamps()\n",
    "det.dream_data.plot_event_time_maxes(max_channel=True, min_amp=None, plot=True)"
   ],
   "id": "c21f073d668d8c83"
  },
  {
   "metadata": {},
   "cell_type": "code",
   "outputs": [],
   "execution_count": null,
   "source": "",
   "id": "361bdda1f32a6589"
  }
 ],
 "metadata": {},
 "nbformat": 5,
 "nbformat_minor": 9
}
