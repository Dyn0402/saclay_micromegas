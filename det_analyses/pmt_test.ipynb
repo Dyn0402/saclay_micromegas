{
 "cells": [
  {
   "metadata": {
    "ExecuteTime": {
     "end_time": "2024-11-19T22:50:56.302860Z",
     "start_time": "2024-11-19T22:50:55.386413Z"
    }
   },
   "cell_type": "code",
   "source": [
    "import numpy as np\n",
    "import matplotlib.pyplot as plt\n",
    "import os\n",
    "import platform\n",
    "\n",
    "from DetectorConfigLoader import DetectorConfigLoader\n",
    "from DreamDetector import DreamDetector\n",
    "from Detector import Detector\n",
    "from DreamData import DreamData\n"
   ],
   "id": "296a7eae9056cbdc",
   "outputs": [],
   "execution_count": 1
  },
  {
   "metadata": {
    "ExecuteTime": {
     "end_time": "2024-11-19T22:50:56.311283Z",
     "start_time": "2024-11-19T22:50:56.308190Z"
    }
   },
   "cell_type": "code",
   "source": [
    "# Check if platform is Windows or Linux\n",
    "if platform.system() == 'Windows':\n",
    "    base_dir = 'F:/Saclay/cosmic_data/'\n",
    "    det_type_info_dir = 'C:/Users/Dylan/PycharmProjects/Cosmic_Bench_DAQ_Control/config/detectors/'\n",
    "    out_dir = 'F:/Saclay/Analysis/Cosmic Bench/11-5-24/'\n",
    "    chunk_size = 100  # Number of files to process at once\n",
    "elif platform.system() == 'Linux':\n",
    "    base_dir = '/local/home/dn277127/Bureau/cosmic_data/'\n",
    "    det_type_info_dir = '/local/home/dn277127/PycharmProjects/Cosmic_Bench_DAQ_Control/config/detectors/'\n",
    "    out_dir = '/local/home/dn277127/Bureau/cosmic_data/Analysis/11-15-24/'\n",
    "    chunk_size = 5  # Number of files to process at once\n",
    "else:\n",
    "    raise OSError('Unknown platform')"
   ],
   "id": "18d7211c420bde3e",
   "outputs": [],
   "execution_count": 2
  },
  {
   "metadata": {
    "ExecuteTime": {
     "end_time": "2024-11-19T22:50:56.465398Z",
     "start_time": "2024-11-19T22:50:56.462503Z"
    }
   },
   "cell_type": "code",
   "source": [
    "run_name = 'drift_scan_11-13-24'\n",
    "run_dir = f'{base_dir}{run_name}/'\n",
    "sub_run_name = 'drift_200'\n",
    "\n",
    "det_single = 'scintillator_top'\n",
    "\n",
    "# file_nums = list(range(0, 50))\n",
    "file_nums = 'all'\n",
    "\n",
    "# connector_channels = {4: np.array([21])}\n",
    "connector_channels = {4: np.array([20, 21])}\n",
    "# connector_channels = None\n",
    "\n",
    "run_json_path = f'{run_dir}run_config.json'\n",
    "data_dir = f'{run_dir}{sub_run_name}/filtered_root/'\n",
    "ped_dir = f'{run_dir}{sub_run_name}/decoded_root/'\n",
    "\n",
    "try:\n",
    "    os.mkdir(out_dir)\n",
    "except FileExistsError:\n",
    "    pass"
   ],
   "id": "b6932dc613220199",
   "outputs": [],
   "execution_count": 3
  },
  {
   "metadata": {
    "ExecuteTime": {
     "end_time": "2024-11-19T22:50:56.512008Z",
     "start_time": "2024-11-19T22:50:56.509609Z"
    }
   },
   "cell_type": "code",
   "source": "det_config_loader = DetectorConfigLoader(run_json_path, det_type_info_dir)",
   "id": "3d2ccbbc825929ff",
   "outputs": [],
   "execution_count": 4
  },
  {
   "metadata": {
    "ExecuteTime": {
     "end_time": "2024-11-19T22:50:58.561253Z",
     "start_time": "2024-11-19T22:50:56.555745Z"
    }
   },
   "cell_type": "code",
   "source": [
    "det_config = det_config_loader.get_det_config(det_single, sub_run_name=sub_run_name)\n",
    "det = DreamDetector(config=det_config)\n",
    "print(f'FEU Num: {det.feu_num}')\n",
    "print(f'FEU Connectors: {det.feu_connectors}')\n",
    "print(f'HV: {det.hv}')\n",
    "det.load_dream_data(data_dir, ped_dir, 10, file_nums, chunk_size, save_waveforms=True, waveform_fit_func='parabola_vectorized', \n",
    "                    connector_channels=connector_channels, hist_raw_amps=True)\n",
    "print(f'Hits shape: {det.dream_data.hits.shape}')"
   ],
   "id": "62ce93bcd364619b",
   "outputs": [
    {
     "name": "stdout",
     "output_type": "stream",
     "text": [
      "Error: Detector type scintillator not found in det map types.\n",
      "FEU Num: 3\n",
      "FEU Connectors: [4]\n",
      "HV: {}\n",
      "Reading in data...\n"
     ]
    },
    {
     "name": "stderr",
     "output_type": "stream",
     "text": [
      "100%|██████████| 5/5 [00:01<00:00,  4.89it/s]\n"
     ]
    },
    {
     "name": "stdout",
     "output_type": "stream",
     "text": [
      "data_i shape: (2187, 2, 32)\n",
      "data_raw_i shape: (2187, 64, 32)\n",
      "data_raw_i shape: (64, 69984)\n",
      "data_raw_i[0:, 0].shape: (64,)\n",
      "data_i shape: (2159, 2, 32)\n",
      "data_raw_i shape: (2159, 64, 32)\n",
      "data_raw_i shape: (64, 69088)\n",
      "data_raw_i[0:, 0].shape: (64,)\n",
      "data_i shape: (2140, 2, 32)\n",
      "data_raw_i shape: (2140, 64, 32)\n",
      "data_raw_i shape: (64, 68480)\n",
      "data_raw_i[0:, 0].shape: (64,)\n",
      "data_i shape: (2234, 2, 32)\n",
      "data_raw_i shape: (2234, 64, 32)\n",
      "data_raw_i shape: (64, 71488)\n",
      "data_raw_i[0:, 0].shape: (64,)\n",
      "data_i shape: (2207, 2, 32)\n",
      "data_raw_i shape: (2207, 64, 32)\n",
      "data_raw_i shape: (64, 70624)\n",
      "data_raw_i[0:, 0].shape: (64,)\n",
      "Read in data shape: (10927, 2, 32)\n",
      "Getting amplitudes...\n"
     ]
    },
    {
     "name": "stderr",
     "output_type": "stream",
     "text": [
      "  0%|          | 0/7 [00:00<?, ?it/s]\n"
     ]
    },
    {
     "ename": "ValueError",
     "evalue": "operands could not be broadcast together with shapes (1561,2) (1,64) ",
     "output_type": "error",
     "traceback": [
      "\u001B[0;31m---------------------------------------------------------------------------\u001B[0m",
      "\u001B[0;31mValueError\u001B[0m                                Traceback (most recent call last)",
      "Cell \u001B[0;32mIn[5], line 6\u001B[0m\n\u001B[1;32m      4\u001B[0m \u001B[38;5;28mprint\u001B[39m(\u001B[38;5;124mf\u001B[39m\u001B[38;5;124m'\u001B[39m\u001B[38;5;124mFEU Connectors: \u001B[39m\u001B[38;5;132;01m{\u001B[39;00mdet\u001B[38;5;241m.\u001B[39mfeu_connectors\u001B[38;5;132;01m}\u001B[39;00m\u001B[38;5;124m'\u001B[39m)\n\u001B[1;32m      5\u001B[0m \u001B[38;5;28mprint\u001B[39m(\u001B[38;5;124mf\u001B[39m\u001B[38;5;124m'\u001B[39m\u001B[38;5;124mHV: \u001B[39m\u001B[38;5;132;01m{\u001B[39;00mdet\u001B[38;5;241m.\u001B[39mhv\u001B[38;5;132;01m}\u001B[39;00m\u001B[38;5;124m'\u001B[39m)\n\u001B[0;32m----> 6\u001B[0m \u001B[43mdet\u001B[49m\u001B[38;5;241;43m.\u001B[39;49m\u001B[43mload_dream_data\u001B[49m\u001B[43m(\u001B[49m\u001B[43mdata_dir\u001B[49m\u001B[43m,\u001B[49m\u001B[43m \u001B[49m\u001B[43mped_dir\u001B[49m\u001B[43m,\u001B[49m\u001B[43m \u001B[49m\u001B[38;5;241;43m10\u001B[39;49m\u001B[43m,\u001B[49m\u001B[43m \u001B[49m\u001B[43mfile_nums\u001B[49m\u001B[43m,\u001B[49m\u001B[43m \u001B[49m\u001B[43mchunk_size\u001B[49m\u001B[43m,\u001B[49m\u001B[43m \u001B[49m\u001B[43msave_waveforms\u001B[49m\u001B[38;5;241;43m=\u001B[39;49m\u001B[38;5;28;43;01mTrue\u001B[39;49;00m\u001B[43m,\u001B[49m\u001B[43m \u001B[49m\u001B[43mwaveform_fit_func\u001B[49m\u001B[38;5;241;43m=\u001B[39;49m\u001B[38;5;124;43m'\u001B[39;49m\u001B[38;5;124;43mparabola_vectorized\u001B[39;49m\u001B[38;5;124;43m'\u001B[39;49m\u001B[43m,\u001B[49m\u001B[43m \u001B[49m\n\u001B[1;32m      7\u001B[0m \u001B[43m                    \u001B[49m\u001B[43mconnector_channels\u001B[49m\u001B[38;5;241;43m=\u001B[39;49m\u001B[43mconnector_channels\u001B[49m\u001B[43m,\u001B[49m\u001B[43m \u001B[49m\u001B[43mhist_raw_amps\u001B[49m\u001B[38;5;241;43m=\u001B[39;49m\u001B[38;5;28;43;01mTrue\u001B[39;49;00m\u001B[43m)\u001B[49m\n\u001B[1;32m      8\u001B[0m \u001B[38;5;28mprint\u001B[39m(\u001B[38;5;124mf\u001B[39m\u001B[38;5;124m'\u001B[39m\u001B[38;5;124mHits shape: \u001B[39m\u001B[38;5;132;01m{\u001B[39;00mdet\u001B[38;5;241m.\u001B[39mdream_data\u001B[38;5;241m.\u001B[39mhits\u001B[38;5;241m.\u001B[39mshape\u001B[38;5;132;01m}\u001B[39;00m\u001B[38;5;124m'\u001B[39m)\n",
      "File \u001B[0;32m~/PycharmProjects/saclay_micromegas/DreamDetector.py:77\u001B[0m, in \u001B[0;36mDreamDetector.load_dream_data\u001B[0;34m(self, data_dir, ped_dir, noise_threshold_sigmas, file_nums, chunk_size, trigger_list, hist_raw_amps, save_waveforms, waveform_fit_func, connector_channels)\u001B[0m\n\u001B[1;32m     75\u001B[0m     \u001B[38;5;28mself\u001B[39m\u001B[38;5;241m.\u001B[39mdream_data\u001B[38;5;241m.\u001B[39mnoise_thresh_sigmas \u001B[38;5;241m=\u001B[39m noise_threshold_sigmas\n\u001B[1;32m     76\u001B[0m \u001B[38;5;28mself\u001B[39m\u001B[38;5;241m.\u001B[39mdream_data\u001B[38;5;241m.\u001B[39mread_ped_data()\n\u001B[0;32m---> 77\u001B[0m \u001B[38;5;28;43mself\u001B[39;49m\u001B[38;5;241;43m.\u001B[39;49m\u001B[43mdream_data\u001B[49m\u001B[38;5;241;43m.\u001B[39;49m\u001B[43mread_data\u001B[49m\u001B[43m(\u001B[49m\u001B[43mfile_nums\u001B[49m\u001B[43m,\u001B[49m\u001B[43m \u001B[49m\u001B[43mchunk_size\u001B[49m\u001B[38;5;241;43m=\u001B[39;49m\u001B[43mchunk_size\u001B[49m\u001B[43m,\u001B[49m\u001B[43m \u001B[49m\u001B[43mtrigger_list\u001B[49m\u001B[38;5;241;43m=\u001B[39;49m\u001B[43mtrigger_list\u001B[49m\u001B[43m,\u001B[49m\n\u001B[1;32m     78\u001B[0m \u001B[43m                          \u001B[49m\u001B[43mhist_raw_amps\u001B[49m\u001B[38;5;241;43m=\u001B[39;49m\u001B[43mhist_raw_amps\u001B[49m\u001B[43m,\u001B[49m\u001B[43m \u001B[49m\u001B[43msave_waveforms\u001B[49m\u001B[38;5;241;43m=\u001B[39;49m\u001B[43msave_waveforms\u001B[49m\u001B[43m)\u001B[49m\n",
      "File \u001B[0;32m~/PycharmProjects/saclay_micromegas/DreamData.py:185\u001B[0m, in \u001B[0;36mDreamData.read_data\u001B[0;34m(self, file_nums, chunk_size, trigger_list, hist_raw_amps, save_waveforms)\u001B[0m\n\u001B[1;32m    183\u001B[0m \u001B[38;5;28mprint\u001B[39m(\u001B[38;5;124mf\u001B[39m\u001B[38;5;124m'\u001B[39m\u001B[38;5;124mRead in data shape: \u001B[39m\u001B[38;5;132;01m{\u001B[39;00m\u001B[38;5;28mself\u001B[39m\u001B[38;5;241m.\u001B[39mdata\u001B[38;5;241m.\u001B[39mshape\u001B[38;5;132;01m}\u001B[39;00m\u001B[38;5;124m'\u001B[39m)\n\u001B[1;32m    184\u001B[0m \u001B[38;5;28mprint\u001B[39m(\u001B[38;5;124m'\u001B[39m\u001B[38;5;124mGetting amplitudes...\u001B[39m\u001B[38;5;124m'\u001B[39m)\n\u001B[0;32m--> 185\u001B[0m \u001B[38;5;28;43mself\u001B[39;49m\u001B[38;5;241;43m.\u001B[39;49m\u001B[43mget_event_amplitudes\u001B[49m\u001B[43m(\u001B[49m\u001B[43m)\u001B[49m\n\u001B[1;32m    187\u001B[0m \u001B[38;5;28;01mif\u001B[39;00m save_waveforms:\n\u001B[1;32m    188\u001B[0m     \u001B[38;5;28mself\u001B[39m\u001B[38;5;241m.\u001B[39mwaveforms \u001B[38;5;241m=\u001B[39m \u001B[38;5;28mself\u001B[39m\u001B[38;5;241m.\u001B[39mdata\u001B[38;5;241m.\u001B[39mcopy()\n",
      "File \u001B[0;32m~/PycharmProjects/saclay_micromegas/DreamData.py:214\u001B[0m, in \u001B[0;36mDreamData.get_event_amplitudes\u001B[0;34m(self)\u001B[0m\n\u001B[1;32m    212\u001B[0m fits_list \u001B[38;5;241m=\u001B[39m []\n\u001B[1;32m    213\u001B[0m \u001B[38;5;28;01mwith\u001B[39;00m concurrent\u001B[38;5;241m.\u001B[39mfutures\u001B[38;5;241m.\u001B[39mThreadPoolExecutor() \u001B[38;5;28;01mas\u001B[39;00m executor:\n\u001B[0;32m--> 214\u001B[0m     \u001B[38;5;28;01mfor\u001B[39;00m fits \u001B[38;5;129;01min\u001B[39;00m tqdm(executor\u001B[38;5;241m.\u001B[39mmap(process_chunk, data_chunks), total\u001B[38;5;241m=\u001B[39mnum_chunks):\n\u001B[1;32m    215\u001B[0m         fits_list\u001B[38;5;241m.\u001B[39mappend(fits)\n\u001B[1;32m    217\u001B[0m fit_params \u001B[38;5;241m=\u001B[39m {key: np\u001B[38;5;241m.\u001B[39mconcatenate([fits[key] \u001B[38;5;28;01mfor\u001B[39;00m fits \u001B[38;5;129;01min\u001B[39;00m fits_list], axis\u001B[38;5;241m=\u001B[39m\u001B[38;5;241m0\u001B[39m) \u001B[38;5;28;01mfor\u001B[39;00m key \u001B[38;5;129;01min\u001B[39;00m fits_list[\u001B[38;5;241m0\u001B[39m]\u001B[38;5;241m.\u001B[39mkeys()}\n",
      "File \u001B[0;32m~/PycharmProjects/saclay_micromegas/.venv/lib/python3.10/site-packages/tqdm/std.py:1181\u001B[0m, in \u001B[0;36mtqdm.__iter__\u001B[0;34m(self)\u001B[0m\n\u001B[1;32m   1178\u001B[0m time \u001B[38;5;241m=\u001B[39m \u001B[38;5;28mself\u001B[39m\u001B[38;5;241m.\u001B[39m_time\n\u001B[1;32m   1180\u001B[0m \u001B[38;5;28;01mtry\u001B[39;00m:\n\u001B[0;32m-> 1181\u001B[0m     \u001B[38;5;28;01mfor\u001B[39;00m obj \u001B[38;5;129;01min\u001B[39;00m iterable:\n\u001B[1;32m   1182\u001B[0m         \u001B[38;5;28;01myield\u001B[39;00m obj\n\u001B[1;32m   1183\u001B[0m         \u001B[38;5;66;03m# Update and possibly print the progressbar.\u001B[39;00m\n\u001B[1;32m   1184\u001B[0m         \u001B[38;5;66;03m# Note: does not call self.update(1) for speed optimisation.\u001B[39;00m\n",
      "File \u001B[0;32m/usr/lib/python3.10/concurrent/futures/_base.py:621\u001B[0m, in \u001B[0;36mExecutor.map.<locals>.result_iterator\u001B[0;34m()\u001B[0m\n\u001B[1;32m    618\u001B[0m \u001B[38;5;28;01mwhile\u001B[39;00m fs:\n\u001B[1;32m    619\u001B[0m     \u001B[38;5;66;03m# Careful not to keep a reference to the popped future\u001B[39;00m\n\u001B[1;32m    620\u001B[0m     \u001B[38;5;28;01mif\u001B[39;00m timeout \u001B[38;5;129;01mis\u001B[39;00m \u001B[38;5;28;01mNone\u001B[39;00m:\n\u001B[0;32m--> 621\u001B[0m         \u001B[38;5;28;01myield\u001B[39;00m \u001B[43m_result_or_cancel\u001B[49m\u001B[43m(\u001B[49m\u001B[43mfs\u001B[49m\u001B[38;5;241;43m.\u001B[39;49m\u001B[43mpop\u001B[49m\u001B[43m(\u001B[49m\u001B[43m)\u001B[49m\u001B[43m)\u001B[49m\n\u001B[1;32m    622\u001B[0m     \u001B[38;5;28;01melse\u001B[39;00m:\n\u001B[1;32m    623\u001B[0m         \u001B[38;5;28;01myield\u001B[39;00m _result_or_cancel(fs\u001B[38;5;241m.\u001B[39mpop(), end_time \u001B[38;5;241m-\u001B[39m time\u001B[38;5;241m.\u001B[39mmonotonic())\n",
      "File \u001B[0;32m/usr/lib/python3.10/concurrent/futures/_base.py:319\u001B[0m, in \u001B[0;36m_result_or_cancel\u001B[0;34m(***failed resolving arguments***)\u001B[0m\n\u001B[1;32m    317\u001B[0m \u001B[38;5;28;01mtry\u001B[39;00m:\n\u001B[1;32m    318\u001B[0m     \u001B[38;5;28;01mtry\u001B[39;00m:\n\u001B[0;32m--> 319\u001B[0m         \u001B[38;5;28;01mreturn\u001B[39;00m \u001B[43mfut\u001B[49m\u001B[38;5;241;43m.\u001B[39;49m\u001B[43mresult\u001B[49m\u001B[43m(\u001B[49m\u001B[43mtimeout\u001B[49m\u001B[43m)\u001B[49m\n\u001B[1;32m    320\u001B[0m     \u001B[38;5;28;01mfinally\u001B[39;00m:\n\u001B[1;32m    321\u001B[0m         fut\u001B[38;5;241m.\u001B[39mcancel()\n",
      "File \u001B[0;32m/usr/lib/python3.10/concurrent/futures/_base.py:451\u001B[0m, in \u001B[0;36mFuture.result\u001B[0;34m(self, timeout)\u001B[0m\n\u001B[1;32m    449\u001B[0m     \u001B[38;5;28;01mraise\u001B[39;00m CancelledError()\n\u001B[1;32m    450\u001B[0m \u001B[38;5;28;01melif\u001B[39;00m \u001B[38;5;28mself\u001B[39m\u001B[38;5;241m.\u001B[39m_state \u001B[38;5;241m==\u001B[39m FINISHED:\n\u001B[0;32m--> 451\u001B[0m     \u001B[38;5;28;01mreturn\u001B[39;00m \u001B[38;5;28;43mself\u001B[39;49m\u001B[38;5;241;43m.\u001B[39;49m\u001B[43m__get_result\u001B[49m\u001B[43m(\u001B[49m\u001B[43m)\u001B[49m\n\u001B[1;32m    453\u001B[0m \u001B[38;5;28mself\u001B[39m\u001B[38;5;241m.\u001B[39m_condition\u001B[38;5;241m.\u001B[39mwait(timeout)\n\u001B[1;32m    455\u001B[0m \u001B[38;5;28;01mif\u001B[39;00m \u001B[38;5;28mself\u001B[39m\u001B[38;5;241m.\u001B[39m_state \u001B[38;5;129;01min\u001B[39;00m [CANCELLED, CANCELLED_AND_NOTIFIED]:\n",
      "File \u001B[0;32m/usr/lib/python3.10/concurrent/futures/_base.py:403\u001B[0m, in \u001B[0;36mFuture.__get_result\u001B[0;34m(self)\u001B[0m\n\u001B[1;32m    401\u001B[0m \u001B[38;5;28;01mif\u001B[39;00m \u001B[38;5;28mself\u001B[39m\u001B[38;5;241m.\u001B[39m_exception:\n\u001B[1;32m    402\u001B[0m     \u001B[38;5;28;01mtry\u001B[39;00m:\n\u001B[0;32m--> 403\u001B[0m         \u001B[38;5;28;01mraise\u001B[39;00m \u001B[38;5;28mself\u001B[39m\u001B[38;5;241m.\u001B[39m_exception\n\u001B[1;32m    404\u001B[0m     \u001B[38;5;28;01mfinally\u001B[39;00m:\n\u001B[1;32m    405\u001B[0m         \u001B[38;5;66;03m# Break a reference cycle with the exception in self._exception\u001B[39;00m\n\u001B[1;32m    406\u001B[0m         \u001B[38;5;28mself\u001B[39m \u001B[38;5;241m=\u001B[39m \u001B[38;5;28;01mNone\u001B[39;00m\n",
      "File \u001B[0;32m/usr/lib/python3.10/concurrent/futures/thread.py:58\u001B[0m, in \u001B[0;36m_WorkItem.run\u001B[0;34m(self)\u001B[0m\n\u001B[1;32m     55\u001B[0m     \u001B[38;5;28;01mreturn\u001B[39;00m\n\u001B[1;32m     57\u001B[0m \u001B[38;5;28;01mtry\u001B[39;00m:\n\u001B[0;32m---> 58\u001B[0m     result \u001B[38;5;241m=\u001B[39m \u001B[38;5;28;43mself\u001B[39;49m\u001B[38;5;241;43m.\u001B[39;49m\u001B[43mfn\u001B[49m\u001B[43m(\u001B[49m\u001B[38;5;241;43m*\u001B[39;49m\u001B[38;5;28;43mself\u001B[39;49m\u001B[38;5;241;43m.\u001B[39;49m\u001B[43margs\u001B[49m\u001B[43m,\u001B[49m\u001B[43m \u001B[49m\u001B[38;5;241;43m*\u001B[39;49m\u001B[38;5;241;43m*\u001B[39;49m\u001B[38;5;28;43mself\u001B[39;49m\u001B[38;5;241;43m.\u001B[39;49m\u001B[43mkwargs\u001B[49m\u001B[43m)\u001B[49m\n\u001B[1;32m     59\u001B[0m \u001B[38;5;28;01mexcept\u001B[39;00m \u001B[38;5;167;01mBaseException\u001B[39;00m \u001B[38;5;28;01mas\u001B[39;00m exc:\n\u001B[1;32m     60\u001B[0m     \u001B[38;5;28mself\u001B[39m\u001B[38;5;241m.\u001B[39mfuture\u001B[38;5;241m.\u001B[39mset_exception(exc)\n",
      "File \u001B[0;32m~/PycharmProjects/saclay_micromegas/DreamData.py:210\u001B[0m, in \u001B[0;36mDreamData.get_event_amplitudes.<locals>.process_chunk\u001B[0;34m(chunk)\u001B[0m\n\u001B[1;32m    209\u001B[0m \u001B[38;5;28;01mdef\u001B[39;00m \u001B[38;5;21mprocess_chunk\u001B[39m(chunk):\n\u001B[0;32m--> 210\u001B[0m     \u001B[38;5;28;01mreturn\u001B[39;00m \u001B[43mget_waveform_fits\u001B[49m\u001B[43m(\u001B[49m\u001B[43mchunk\u001B[49m\u001B[43m,\u001B[49m\u001B[43m \u001B[49m\u001B[38;5;28;43mself\u001B[39;49m\u001B[38;5;241;43m.\u001B[39;49m\u001B[43mnoise_thresholds\u001B[49m\u001B[43m,\u001B[49m\u001B[43m \u001B[49m\u001B[38;5;28;43mself\u001B[39;49m\u001B[38;5;241;43m.\u001B[39;49m\u001B[43mwaveform_fit_func\u001B[49m\u001B[43m)\u001B[49m\n",
      "File \u001B[0;32m~/PycharmProjects/saclay_micromegas/DreamData.py:1045\u001B[0m, in \u001B[0;36mget_waveform_fits\u001B[0;34m(data, noise_thresholds, func)\u001B[0m\n\u001B[1;32m   1043\u001B[0m     sample_maxes \u001B[38;5;241m=\u001B[39m get_sample_max(data)\n\u001B[1;32m   1044\u001B[0m     \u001B[38;5;66;03m# If sample max below noise threshold, set to zero\u001B[39;00m\n\u001B[0;32m-> 1045\u001B[0m     noise_mask \u001B[38;5;241m=\u001B[39m \u001B[43msample_maxes\u001B[49m\u001B[43m \u001B[49m\u001B[38;5;241;43m>\u001B[39;49m\u001B[43m \u001B[49m\u001B[43mnoise_thresholds\u001B[49m\u001B[43m[\u001B[49m\u001B[43mnp\u001B[49m\u001B[38;5;241;43m.\u001B[39;49m\u001B[43mnewaxis\u001B[49m\u001B[43m,\u001B[49m\u001B[43m \u001B[49m\u001B[43m:\u001B[49m\u001B[43m]\u001B[49m\n\u001B[1;32m   1046\u001B[0m     data \u001B[38;5;241m=\u001B[39m np\u001B[38;5;241m.\u001B[39mwhere(noise_mask[:, :, np\u001B[38;5;241m.\u001B[39mnewaxis], data, \u001B[38;5;241m0\u001B[39m)\n\u001B[1;32m   1047\u001B[0m \u001B[38;5;28;01mif\u001B[39;00m func \u001B[38;5;241m==\u001B[39m \u001B[38;5;124m'\u001B[39m\u001B[38;5;124mgaus\u001B[39m\u001B[38;5;124m'\u001B[39m:\n",
      "\u001B[0;31mValueError\u001B[0m: operands could not be broadcast together with shapes (1561,2) (1,64) "
     ]
    }
   ],
   "execution_count": 5
  },
  {
   "metadata": {},
   "cell_type": "code",
   "source": "det.dream_data.plot_raw_amps_2d_hist()",
   "id": "64000eadad70487c",
   "outputs": [],
   "execution_count": null
  },
  {
   "metadata": {},
   "cell_type": "code",
   "source": [
    "det.dream_data.plot_fine_timestamp_hist()\n",
    "det.dream_data.correct_for_fine_timestamps()"
   ],
   "id": "670c3b8afb4bcccc",
   "outputs": [],
   "execution_count": null
  },
  {
   "metadata": {},
   "cell_type": "code",
   "source": "det.dream_data.plot_waveforms(25)",
   "id": "92fb35ac6c3fb381",
   "outputs": [],
   "execution_count": null
  },
  {
   "metadata": {},
   "cell_type": "code",
   "source": "det.dream_data.plot_event_time_maxes(max_channel=True, min_amp=None, plot=True)",
   "id": "8c591627d445eb33",
   "outputs": [],
   "execution_count": null
  },
  {
   "metadata": {},
   "cell_type": "code",
   "source": "",
   "id": "361bdda1f32a6589",
   "outputs": [],
   "execution_count": null
  }
 ],
 "metadata": {
  "kernelspec": {
   "name": "python3",
   "language": "python",
   "display_name": "Python 3 (ipykernel)"
  }
 },
 "nbformat": 5,
 "nbformat_minor": 9
}
